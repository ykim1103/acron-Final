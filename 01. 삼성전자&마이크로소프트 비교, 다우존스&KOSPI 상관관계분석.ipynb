{
 "cells": [
  {
   "cell_type": "markdown",
   "metadata": {},
   "source": [
    "# 야후 파이낸스로 주식시세 구하기\n",
    "  ### 야후 파이낸스에서 제공하는 삼성전자와 마이크로소프트 주식 시세를 데이터프레임으로 받아 분석\n",
    "   * 야후 파이낸스는 pip install yfinance로 설치\n",
    "   * 팬더스-데이터리더 라이브러리 pip installpandas-datareader로 설치\n",
    "   * 주식 시세를 구하기 위해서는 get_data_yahoo() 함수 사용\n",
    "    - get_data_yahoo(조회할 주식,start=조회기간시작일, end=조회기간의 종료일)\n",
    "    - 조회할 주식은 문자열이나, 리스트\n",
    "    - 조회 기간은 생략할 수 있다.\n",
    "    - 코스피종목을 조회하려면 6자리 종목코드 뒤에 .KS  \n",
    "    - 코스닥종목을 조회하려면 종목코드 뒤에 .KQ\n",
    "    - 미국기업 주식종목을 조회하려면 심볼(티커)를 사용하여 조회한다. "
   ]
  },
  {
   "cell_type": "code",
   "execution_count": 40,
   "metadata": {},
   "outputs": [],
   "source": [
    "import pandas as pd\n",
    "from pandas_datareader import data as pdr\n",
    "import yfinance as yf\n",
    "yf.pdr_override()\n",
    "import matplotlib.pyplot as plt"
   ]
  },
  {
   "cell_type": "code",
   "execution_count": 2,
   "metadata": {},
   "outputs": [
    {
     "name": "stdout",
     "output_type": "stream",
     "text": [
      "[*********************100%***********************]  1 of 1 completed\n",
      "[*********************100%***********************]  1 of 1 completed\n"
     ]
    }
   ],
   "source": [
    "sec = pdr.get_data_yahoo('005930.KS',start='2019-01-01')  # 삼성주식\n",
    "msft = pdr.get_data_yahoo('MSFT',start='2019-01-01') # 마이크로 소프트 주식"
   ]
  },
  {
   "cell_type": "code",
   "execution_count": 3,
   "metadata": {},
   "outputs": [
    {
     "data": {
      "text/html": [
       "<div>\n",
       "<style scoped>\n",
       "    .dataframe tbody tr th:only-of-type {\n",
       "        vertical-align: middle;\n",
       "    }\n",
       "\n",
       "    .dataframe tbody tr th {\n",
       "        vertical-align: top;\n",
       "    }\n",
       "\n",
       "    .dataframe thead th {\n",
       "        text-align: right;\n",
       "    }\n",
       "</style>\n",
       "<table border=\"1\" class=\"dataframe\">\n",
       "  <thead>\n",
       "    <tr style=\"text-align: right;\">\n",
       "      <th></th>\n",
       "      <th>Open</th>\n",
       "      <th>High</th>\n",
       "      <th>Low</th>\n",
       "      <th>Close</th>\n",
       "      <th>Adj Close</th>\n",
       "      <th>Volume</th>\n",
       "    </tr>\n",
       "    <tr>\n",
       "      <th>Date</th>\n",
       "      <th></th>\n",
       "      <th></th>\n",
       "      <th></th>\n",
       "      <th></th>\n",
       "      <th></th>\n",
       "      <th></th>\n",
       "    </tr>\n",
       "  </thead>\n",
       "  <tbody>\n",
       "    <tr>\n",
       "      <th>2019-01-02</th>\n",
       "      <td>39400.0</td>\n",
       "      <td>39400.0</td>\n",
       "      <td>38550.0</td>\n",
       "      <td>38750.0</td>\n",
       "      <td>38750.0</td>\n",
       "      <td>7847664</td>\n",
       "    </tr>\n",
       "    <tr>\n",
       "      <th>2019-01-03</th>\n",
       "      <td>38300.0</td>\n",
       "      <td>38550.0</td>\n",
       "      <td>37450.0</td>\n",
       "      <td>37600.0</td>\n",
       "      <td>37600.0</td>\n",
       "      <td>12471493</td>\n",
       "    </tr>\n",
       "    <tr>\n",
       "      <th>2019-01-04</th>\n",
       "      <td>37450.0</td>\n",
       "      <td>37600.0</td>\n",
       "      <td>36850.0</td>\n",
       "      <td>37450.0</td>\n",
       "      <td>37450.0</td>\n",
       "      <td>14108958</td>\n",
       "    </tr>\n",
       "    <tr>\n",
       "      <th>2019-01-07</th>\n",
       "      <td>38000.0</td>\n",
       "      <td>38900.0</td>\n",
       "      <td>37800.0</td>\n",
       "      <td>38750.0</td>\n",
       "      <td>38750.0</td>\n",
       "      <td>12748997</td>\n",
       "    </tr>\n",
       "    <tr>\n",
       "      <th>2019-01-08</th>\n",
       "      <td>38000.0</td>\n",
       "      <td>39200.0</td>\n",
       "      <td>37950.0</td>\n",
       "      <td>38100.0</td>\n",
       "      <td>38100.0</td>\n",
       "      <td>12756554</td>\n",
       "    </tr>\n",
       "  </tbody>\n",
       "</table>\n",
       "</div>"
      ],
      "text/plain": [
       "               Open     High      Low    Close  Adj Close    Volume\n",
       "Date                                                               \n",
       "2019-01-02  39400.0  39400.0  38550.0  38750.0    38750.0   7847664\n",
       "2019-01-03  38300.0  38550.0  37450.0  37600.0    37600.0  12471493\n",
       "2019-01-04  37450.0  37600.0  36850.0  37450.0    37450.0  14108958\n",
       "2019-01-07  38000.0  38900.0  37800.0  38750.0    38750.0  12748997\n",
       "2019-01-08  38000.0  39200.0  37950.0  38100.0    38100.0  12756554"
      ]
     },
     "execution_count": 3,
     "metadata": {},
     "output_type": "execute_result"
    }
   ],
   "source": [
    "sec.head()"
   ]
  },
  {
   "cell_type": "code",
   "execution_count": 5,
   "metadata": {},
   "outputs": [
    {
     "data": {
      "text/html": [
       "<div>\n",
       "<style scoped>\n",
       "    .dataframe tbody tr th:only-of-type {\n",
       "        vertical-align: middle;\n",
       "    }\n",
       "\n",
       "    .dataframe tbody tr th {\n",
       "        vertical-align: top;\n",
       "    }\n",
       "\n",
       "    .dataframe thead th {\n",
       "        text-align: right;\n",
       "    }\n",
       "</style>\n",
       "<table border=\"1\" class=\"dataframe\">\n",
       "  <thead>\n",
       "    <tr style=\"text-align: right;\">\n",
       "      <th></th>\n",
       "      <th>Open</th>\n",
       "      <th>High</th>\n",
       "      <th>Low</th>\n",
       "      <th>Close</th>\n",
       "      <th>Adj Close</th>\n",
       "      <th>Volume</th>\n",
       "    </tr>\n",
       "    <tr>\n",
       "      <th>Date</th>\n",
       "      <th></th>\n",
       "      <th></th>\n",
       "      <th></th>\n",
       "      <th></th>\n",
       "      <th></th>\n",
       "      <th></th>\n",
       "    </tr>\n",
       "  </thead>\n",
       "  <tbody>\n",
       "    <tr>\n",
       "      <th>2020-10-01</th>\n",
       "      <td>213.490005</td>\n",
       "      <td>213.990005</td>\n",
       "      <td>211.320007</td>\n",
       "      <td>212.460007</td>\n",
       "      <td>212.460007</td>\n",
       "      <td>27158400</td>\n",
       "    </tr>\n",
       "    <tr>\n",
       "      <th>2020-10-02</th>\n",
       "      <td>208.000000</td>\n",
       "      <td>210.990005</td>\n",
       "      <td>205.539993</td>\n",
       "      <td>206.190002</td>\n",
       "      <td>206.190002</td>\n",
       "      <td>33154800</td>\n",
       "    </tr>\n",
       "    <tr>\n",
       "      <th>2020-10-05</th>\n",
       "      <td>207.220001</td>\n",
       "      <td>210.410004</td>\n",
       "      <td>206.979996</td>\n",
       "      <td>210.380005</td>\n",
       "      <td>210.380005</td>\n",
       "      <td>21331600</td>\n",
       "    </tr>\n",
       "    <tr>\n",
       "      <th>2020-10-06</th>\n",
       "      <td>208.820007</td>\n",
       "      <td>210.179993</td>\n",
       "      <td>204.820007</td>\n",
       "      <td>205.910004</td>\n",
       "      <td>205.910004</td>\n",
       "      <td>28554300</td>\n",
       "    </tr>\n",
       "    <tr>\n",
       "      <th>2020-10-07</th>\n",
       "      <td>207.059998</td>\n",
       "      <td>210.110001</td>\n",
       "      <td>206.720001</td>\n",
       "      <td>209.830002</td>\n",
       "      <td>209.830002</td>\n",
       "      <td>25648100</td>\n",
       "    </tr>\n",
       "  </tbody>\n",
       "</table>\n",
       "</div>"
      ],
      "text/plain": [
       "                  Open        High         Low       Close   Adj Close  \\\n",
       "Date                                                                     \n",
       "2020-10-01  213.490005  213.990005  211.320007  212.460007  212.460007   \n",
       "2020-10-02  208.000000  210.990005  205.539993  206.190002  206.190002   \n",
       "2020-10-05  207.220001  210.410004  206.979996  210.380005  210.380005   \n",
       "2020-10-06  208.820007  210.179993  204.820007  205.910004  205.910004   \n",
       "2020-10-07  207.059998  210.110001  206.720001  209.830002  209.830002   \n",
       "\n",
       "              Volume  \n",
       "Date                  \n",
       "2020-10-01  27158400  \n",
       "2020-10-02  33154800  \n",
       "2020-10-05  21331600  \n",
       "2020-10-06  28554300  \n",
       "2020-10-07  25648100  "
      ]
     },
     "execution_count": 5,
     "metadata": {},
     "output_type": "execute_result"
    }
   ],
   "source": [
    "msft.tail()"
   ]
  },
  {
   "cell_type": "markdown",
   "metadata": {},
   "source": [
    "##### 변수설명\n",
    "* Open : 시가. 매일 열리는 주식 시장의 첫 시작 가격\n",
    "* High : 고가. 가장 높은 금액으로 거래\n",
    "* Low : 저가. 가장 낮은 금액으로 거래\n",
    "* Close : 종가. 하루 열린 장에서 가장 마지막으로 거래가 완료된 가격을 종가\n",
    "* Adj Close : 수정종가. 주식가격에 변동이 있을 경우 가격 변동 이전에 거래된 가격을 현재 주식에 맞춰 수정하여 표시한 가격\n",
    "* Volume : 거래량. 매매된 주식의 수량"
   ]
  },
  {
   "cell_type": "code",
   "execution_count": 6,
   "metadata": {},
   "outputs": [
    {
     "data": {
      "text/plain": [
       "DatetimeIndex(['2019-01-02', '2019-01-03', '2019-01-04', '2019-01-07',\n",
       "               '2019-01-08', '2019-01-09', '2019-01-10', '2019-01-11',\n",
       "               '2019-01-14', '2019-01-15',\n",
       "               ...\n",
       "               '2020-09-22', '2020-09-23', '2020-09-24', '2020-09-25',\n",
       "               '2020-09-28', '2020-09-29', '2020-10-05', '2020-10-06',\n",
       "               '2020-10-07', '2020-10-08'],\n",
       "              dtype='datetime64[ns]', name='Date', length=436, freq=None)"
      ]
     },
     "execution_count": 6,
     "metadata": {},
     "output_type": "execute_result"
    }
   ],
   "source": [
    "sec.index"
   ]
  },
  {
   "cell_type": "code",
   "execution_count": 7,
   "metadata": {},
   "outputs": [
    {
     "data": {
      "text/plain": [
       "DatetimeIndex(['2018-12-31', '2019-01-02', '2019-01-03', '2019-01-04',\n",
       "               '2019-01-07', '2019-01-08', '2019-01-09', '2019-01-10',\n",
       "               '2019-01-11', '2019-01-14',\n",
       "               ...\n",
       "               '2020-09-24', '2020-09-25', '2020-09-28', '2020-09-29',\n",
       "               '2020-09-30', '2020-10-01', '2020-10-02', '2020-10-05',\n",
       "               '2020-10-06', '2020-10-07'],\n",
       "              dtype='datetime64[ns]', name='Date', length=447, freq=None)"
      ]
     },
     "execution_count": 7,
     "metadata": {},
     "output_type": "execute_result"
    }
   ],
   "source": [
    "msft.index"
   ]
  },
  {
   "cell_type": "markdown",
   "metadata": {},
   "source": [
    "* 삼성전자(sec)와 마이크로소프트(msft)는 인덱스가 dataime형으로 되어 있다. "
   ]
  },
  {
   "cell_type": "code",
   "execution_count": 8,
   "metadata": {},
   "outputs": [
    {
     "data": {
      "text/plain": [
       "Index(['Open', 'High', 'Low', 'Close', 'Adj Close', 'Volume'], dtype='object')"
      ]
     },
     "execution_count": 8,
     "metadata": {},
     "output_type": "execute_result"
    }
   ],
   "source": [
    "sec.columns"
   ]
  },
  {
   "cell_type": "markdown",
   "metadata": {},
   "source": [
    "### 삼성전자와 마이크로소프트 종가 데이터를 이용한 그래프 "
   ]
  },
  {
   "cell_type": "code",
   "execution_count": 9,
   "metadata": {},
   "outputs": [
    {
     "data": {
      "image/png": "[encoded data removed]",
      "text/plain": [
       "<Figure size 720x504 with 1 Axes>"
      ]
     },
     "metadata": {
      "needs_background": "light"
     },
     "output_type": "display_data"
    }
   ],
   "source": [
    "plt.figure(figsize=(10,7))\n",
    "plt.plot(sec.index,sec['Close'],'b',label='Samsung Electronics')\n",
    "plt.plot(msft.index,msft.Close,'r--',label='Microsoft')\n",
    "plt.legend(loc='best')\n",
    "plt.show()"
   ]
  },
  {
   "cell_type": "markdown",
   "metadata": {},
   "source": [
    "##### 그래프설명\n",
    " - 삼성전자는 50000원 대 , 마이크로소프트는 130달러 대의 주가이기 때문에 숫자 차이가 커서 마이크로소프트 주가가 0인것 처럼 보인다.\n",
    " - 비교가 어렵기 때문에 일간변동률을 이용해 비교해 본다.\n",
    "<br/>\n",
    "<br/>\n",
    "\n",
    "\n",
    "##### 코드 설명\n",
    "* x 축에는 인덱스(날짜), y축에는 Close(종가)데이터.\n",
    "* plt.legend(loc='best')   ->  라벨 표가 적당히 빈 자리에 위치"
   ]
  },
  {
   "cell_type": "markdown",
   "metadata": {},
   "source": [
    "### 일간변동률로 삼성전자와 마이크로소프트 주가 비교하기"
   ]
  },
  {
   "cell_type": "markdown",
   "metadata": {},
   "source": [
    "일간 변동률 = (오늘종가-어제종가)/어제종가 *100"
   ]
  },
  {
   "cell_type": "code",
   "execution_count": 10,
   "metadata": {},
   "outputs": [
    {
     "data": {
      "text/plain": [
       "Date\n",
       "2019-01-02    38750.0\n",
       "2019-01-03    37600.0\n",
       "2019-01-04    37450.0\n",
       "2019-01-07    38750.0\n",
       "2019-01-08    38100.0\n",
       "               ...   \n",
       "2020-09-29    58200.0\n",
       "2020-10-05    58700.0\n",
       "2020-10-06    59000.0\n",
       "2020-10-07    59900.0\n",
       "2020-10-08    60000.0\n",
       "Name: Close, Length: 436, dtype: float64"
      ]
     },
     "execution_count": 10,
     "metadata": {},
     "output_type": "execute_result"
    }
   ],
   "source": [
    "sec['Close']"
   ]
  },
  {
   "cell_type": "code",
   "execution_count": 13,
   "metadata": {},
   "outputs": [
    {
     "data": {
      "text/plain": [
       "Date\n",
       "2019-01-02        NaN\n",
       "2019-01-03    38750.0\n",
       "2019-01-04    37600.0\n",
       "2019-01-07    37450.0\n",
       "2019-01-08    38750.0\n",
       "               ...   \n",
       "2020-09-29    58200.0\n",
       "2020-10-05    58200.0\n",
       "2020-10-06    58700.0\n",
       "2020-10-07    59000.0\n",
       "2020-10-08    59900.0\n",
       "Name: Close, Length: 436, dtype: float64"
      ]
     },
     "execution_count": 13,
     "metadata": {},
     "output_type": "execute_result"
    }
   ],
   "source": [
    "sec['Close'].shift(1)"
   ]
  },
  {
   "cell_type": "markdown",
   "metadata": {},
   "source": [
    "* shift는 데이터를 이동시킬 떄 사용하는 함수이다.  \n",
    "* shift(?)  ->  ?만큼 이동시킨다. \n",
    "* 한 칸씩 밀려서 1월2일자 주식정보가 1월3일로 들어가 있다. 그 말은 1월 3일 입장에서는 어제 날짜의 주식정보가 들어가 있는 것이다.\n",
    "* 즉, shift를 이용해서 해당날짜의 어제 주식정보를 들어가게 입력해 주었다. "
   ]
  },
  {
   "cell_type": "markdown",
   "metadata": {},
   "source": [
    "#### 일간변동률 코드"
   ]
  },
  {
   "cell_type": "code",
   "execution_count": 14,
   "metadata": {},
   "outputs": [],
   "source": [
    "sec_dpc = (sec['Close']-sec['Close'].shift(1))/sec['Close'].shift(1)*100   # 삼성"
   ]
  },
  {
   "cell_type": "code",
   "execution_count": 15,
   "metadata": {},
   "outputs": [],
   "source": [
    "msft_dpc = (msft['Close']-msft['Close'].shift(1))/msft['Close'].shift(1)*100  # 마이크로소프트"
   ]
  },
  {
   "cell_type": "code",
   "execution_count": 16,
   "metadata": {},
   "outputs": [
    {
     "data": {
      "text/plain": [
       "Date\n",
       "2019-01-02         NaN\n",
       "2019-01-03   -2.967742\n",
       "2019-01-04   -0.398936\n",
       "2019-01-07    3.471295\n",
       "2019-01-08   -1.677419\n",
       "                ...   \n",
       "2020-09-29    0.000000\n",
       "2020-10-05    0.859107\n",
       "2020-10-06    0.511073\n",
       "2020-10-07    1.525424\n",
       "2020-10-08    0.166945\n",
       "Name: Close, Length: 436, dtype: float64"
      ]
     },
     "execution_count": 16,
     "metadata": {},
     "output_type": "execute_result"
    }
   ],
   "source": [
    "sec_dpc"
   ]
  },
  {
   "cell_type": "markdown",
   "metadata": {},
   "source": [
    "###### NaN값을 0으로 바꾼다."
   ]
  },
  {
   "cell_type": "code",
   "execution_count": 17,
   "metadata": {},
   "outputs": [
    {
     "data": {
      "text/plain": [
       "Date\n",
       "2019-01-02    0.000000\n",
       "2019-01-03   -2.967742\n",
       "2019-01-04   -0.398936\n",
       "2019-01-07    3.471295\n",
       "2019-01-08   -1.677419\n",
       "                ...   \n",
       "2020-09-29    0.000000\n",
       "2020-10-05    0.859107\n",
       "2020-10-06    0.511073\n",
       "2020-10-07    1.525424\n",
       "2020-10-08    0.166945\n",
       "Name: Close, Length: 436, dtype: float64"
      ]
     },
     "execution_count": 17,
     "metadata": {},
     "output_type": "execute_result"
    }
   ],
   "source": [
    "sec_dpc.iloc[0] = 0 \n",
    "sec_dpc"
   ]
  },
  {
   "cell_type": "code",
   "execution_count": 18,
   "metadata": {},
   "outputs": [
    {
     "data": {
      "text/plain": [
       "Date\n",
       "2018-12-31    0.000000\n",
       "2019-01-02   -0.443041\n",
       "2019-01-03   -3.678799\n",
       "2019-01-04    4.650923\n",
       "2019-01-07    0.127536\n",
       "                ...   \n",
       "2020-10-01    1.012697\n",
       "2020-10-02   -2.951146\n",
       "2020-10-05    2.032107\n",
       "2020-10-06   -2.124727\n",
       "2020-10-07    1.903743\n",
       "Name: Close, Length: 447, dtype: float64"
      ]
     },
     "execution_count": 18,
     "metadata": {},
     "output_type": "execute_result"
    }
   ],
   "source": [
    "msft_dpc.iloc[0] = 0 \n",
    "msft_dpc"
   ]
  },
  {
   "cell_type": "markdown",
   "metadata": {},
   "source": [
    "###### 그래프그리기"
   ]
  },
  {
   "cell_type": "code",
   "execution_count": 19,
   "metadata": {},
   "outputs": [
    {
     "data": {
      "image/png": "[encoded data removed]",
      "text/plain": [
       "<Figure size 432x288 with 1 Axes>"
      ]
     },
     "metadata": {
      "needs_background": "light"
     },
     "output_type": "display_data"
    }
   ],
   "source": [
    "plt.hist(sec_dpc,bins=18)\n",
    "plt.grid(True)\n",
    "plt.show()"
   ]
  },
  {
   "cell_type": "code",
   "execution_count": 20,
   "metadata": {},
   "outputs": [
    {
     "data": {
      "image/png": "[encoded data removed]",
      "text/plain": [
       "<Figure size 432x288 with 1 Axes>"
      ]
     },
     "metadata": {
      "needs_background": "light"
     },
     "output_type": "display_data"
    }
   ],
   "source": [
    "plt.hist(msft_dpc,bins=18)\n",
    "plt.grid(True)\n",
    "plt.show()"
   ]
  },
  {
   "cell_type": "markdown",
   "metadata": {},
   "source": [
    "#### 일간변동률 누적합 \n",
    "* sec_dpc와 msft_dpc 는 일간변동률이다. 하지만 전체적인 변동룰의 비교해보려면 일간변동률의 누적합이 필요하다. \n",
    "* cumsum() 함수를 이용해 누적합을 구한다."
   ]
  },
  {
   "cell_type": "code",
   "execution_count": 21,
   "metadata": {},
   "outputs": [],
   "source": [
    "sec_dpc_sum = sec_dpc.cumsum()\n",
    "msft_dpc_sum = msft_dpc.cumsum()"
   ]
  },
  {
   "cell_type": "code",
   "execution_count": 22,
   "metadata": {},
   "outputs": [
    {
     "data": {
      "text/plain": [
       "Date\n",
       "2019-01-02     0.000000\n",
       "2019-01-03    -2.967742\n",
       "2019-01-04    -3.366678\n",
       "2019-01-07     0.104617\n",
       "2019-01-08    -1.572802\n",
       "                ...    \n",
       "2020-09-29    47.756290\n",
       "2020-10-05    48.615397\n",
       "2020-10-06    49.126470\n",
       "2020-10-07    50.651894\n",
       "2020-10-08    50.818839\n",
       "Name: Close, Length: 436, dtype: float64"
      ]
     },
     "execution_count": 22,
     "metadata": {},
     "output_type": "execute_result"
    }
   ],
   "source": [
    "sec_dpc_sum"
   ]
  },
  {
   "cell_type": "code",
   "execution_count": 23,
   "metadata": {},
   "outputs": [
    {
     "data": {
      "text/plain": [
       "Date\n",
       "2018-12-31     0.000000\n",
       "2019-01-02    -0.443041\n",
       "2019-01-03    -4.121840\n",
       "2019-01-04     0.529083\n",
       "2019-01-07     0.656619\n",
       "                ...    \n",
       "2020-10-01    84.626803\n",
       "2020-10-02    81.675657\n",
       "2020-10-05    83.707765\n",
       "2020-10-06    81.583037\n",
       "2020-10-07    83.486781\n",
       "Name: Close, Length: 447, dtype: float64"
      ]
     },
     "execution_count": 23,
     "metadata": {},
     "output_type": "execute_result"
    }
   ],
   "source": [
    "msft_dpc_sum"
   ]
  },
  {
   "cell_type": "code",
   "execution_count": 24,
   "metadata": {},
   "outputs": [
    {
     "data": {
      "image/png": "[encoded data removed]",
      "text/plain": [
       "<Figure size 432x288 with 1 Axes>"
      ]
     },
     "metadata": {
      "needs_background": "light"
     },
     "output_type": "display_data"
    }
   ],
   "source": [
    "plt.plot(sec.index,sec_dpc_sum,'b',label='Samsung Electronics')\n",
    "plt.plot(msft.index,msft_dpc_sum,'r--',label='Microsoft')\n",
    "plt.ylabel('Change %')\n",
    "plt.grid(True)\n",
    "plt.legend(loc='best')\n",
    "plt.show()"
   ]
  },
  {
   "cell_type": "markdown",
   "metadata": {},
   "source": [
    "# MDD(Maximum Drawdown) 최대 손실낙폭\n",
    "* 최대손실낙폭은 특정기간에 발생한 최고점에서 최저점까지의 가장 큰 손실을 의미. \n",
    "* 퀀트 투자에서는 수익률을 높이는 것보다 MDD를 낮추는 것이 더 낫다고 할 만큼 중요한 지표이다. \n",
    "* MDD에서는 rolling()함수가 중요하다!!!\n",
    "   - 사용법 : 시리즈.rolling(윈도우,min_periods=1).집계합수()\n",
    "   - rolling의 시리즈에서 윈도우 크기에 해당하는 갯수만큼 데이터를 추출하여 집계함수에 해당하는 연산을 한다.\n",
    "   - 집계합수는 max,min,mean 등을 사용할 수 있다.\n",
    "   "
   ]
  },
  {
   "cell_type": "code",
   "execution_count": 25,
   "metadata": {},
   "outputs": [
    {
     "name": "stdout",
     "output_type": "stream",
     "text": [
      "[*********************100%***********************]  1 of 1 completed\n"
     ]
    }
   ],
   "source": [
    "kospi = pdr.get_data_yahoo('^KS11','2004-01-04')    # ^KS11은 코스피지수를 의미"
   ]
  },
  {
   "cell_type": "code",
   "execution_count": 26,
   "metadata": {},
   "outputs": [
    {
     "data": {
      "text/html": [
       "<div>\n",
       "<style scoped>\n",
       "    .dataframe tbody tr th:only-of-type {\n",
       "        vertical-align: middle;\n",
       "    }\n",
       "\n",
       "    .dataframe tbody tr th {\n",
       "        vertical-align: top;\n",
       "    }\n",
       "\n",
       "    .dataframe thead th {\n",
       "        text-align: right;\n",
       "    }\n",
       "</style>\n",
       "<table border=\"1\" class=\"dataframe\">\n",
       "  <thead>\n",
       "    <tr style=\"text-align: right;\">\n",
       "      <th></th>\n",
       "      <th>Open</th>\n",
       "      <th>High</th>\n",
       "      <th>Low</th>\n",
       "      <th>Close</th>\n",
       "      <th>Adj Close</th>\n",
       "      <th>Volume</th>\n",
       "    </tr>\n",
       "    <tr>\n",
       "      <th>Date</th>\n",
       "      <th></th>\n",
       "      <th></th>\n",
       "      <th></th>\n",
       "      <th></th>\n",
       "      <th></th>\n",
       "      <th></th>\n",
       "    </tr>\n",
       "  </thead>\n",
       "  <tbody>\n",
       "    <tr>\n",
       "      <th>2004-01-05</th>\n",
       "      <td>817.280029</td>\n",
       "      <td>825.429993</td>\n",
       "      <td>816.549988</td>\n",
       "      <td>824.099976</td>\n",
       "      <td>824.099976</td>\n",
       "      <td>408200</td>\n",
       "    </tr>\n",
       "    <tr>\n",
       "      <th>2004-01-06</th>\n",
       "      <td>831.260010</td>\n",
       "      <td>831.260010</td>\n",
       "      <td>819.530029</td>\n",
       "      <td>823.429993</td>\n",
       "      <td>823.429993</td>\n",
       "      <td>484000</td>\n",
       "    </tr>\n",
       "    <tr>\n",
       "      <th>2004-01-07</th>\n",
       "      <td>826.080017</td>\n",
       "      <td>831.070007</td>\n",
       "      <td>825.229980</td>\n",
       "      <td>827.070007</td>\n",
       "      <td>827.070007</td>\n",
       "      <td>404600</td>\n",
       "    </tr>\n",
       "    <tr>\n",
       "      <th>2004-01-08</th>\n",
       "      <td>831.099976</td>\n",
       "      <td>839.280029</td>\n",
       "      <td>824.150024</td>\n",
       "      <td>824.150024</td>\n",
       "      <td>824.150024</td>\n",
       "      <td>428800</td>\n",
       "    </tr>\n",
       "    <tr>\n",
       "      <th>2004-01-09</th>\n",
       "      <td>835.419983</td>\n",
       "      <td>849.500000</td>\n",
       "      <td>835.049988</td>\n",
       "      <td>845.270020</td>\n",
       "      <td>845.270020</td>\n",
       "      <td>543200</td>\n",
       "    </tr>\n",
       "    <tr>\n",
       "      <th>...</th>\n",
       "      <td>...</td>\n",
       "      <td>...</td>\n",
       "      <td>...</td>\n",
       "      <td>...</td>\n",
       "      <td>...</td>\n",
       "      <td>...</td>\n",
       "    </tr>\n",
       "    <tr>\n",
       "      <th>2020-09-29</th>\n",
       "      <td>2331.510010</td>\n",
       "      <td>2339.830078</td>\n",
       "      <td>2320.040039</td>\n",
       "      <td>2327.889893</td>\n",
       "      <td>2327.889893</td>\n",
       "      <td>646200</td>\n",
       "    </tr>\n",
       "    <tr>\n",
       "      <th>2020-10-05</th>\n",
       "      <td>2330.550049</td>\n",
       "      <td>2364.729980</td>\n",
       "      <td>2327.830078</td>\n",
       "      <td>2358.000000</td>\n",
       "      <td>2358.000000</td>\n",
       "      <td>763600</td>\n",
       "    </tr>\n",
       "    <tr>\n",
       "      <th>2020-10-06</th>\n",
       "      <td>2369.169922</td>\n",
       "      <td>2378.280029</td>\n",
       "      <td>2355.389893</td>\n",
       "      <td>2365.899902</td>\n",
       "      <td>2365.899902</td>\n",
       "      <td>861800</td>\n",
       "    </tr>\n",
       "    <tr>\n",
       "      <th>2020-10-07</th>\n",
       "      <td>2350.820068</td>\n",
       "      <td>2387.449951</td>\n",
       "      <td>2347.820068</td>\n",
       "      <td>2386.939941</td>\n",
       "      <td>2386.939941</td>\n",
       "      <td>735800</td>\n",
       "    </tr>\n",
       "    <tr>\n",
       "      <th>2020-10-08</th>\n",
       "      <td>2408.489990</td>\n",
       "      <td>2409.010010</td>\n",
       "      <td>2383.820068</td>\n",
       "      <td>2398.649902</td>\n",
       "      <td>2398.649902</td>\n",
       "      <td>894089</td>\n",
       "    </tr>\n",
       "  </tbody>\n",
       "</table>\n",
       "<p>4132 rows × 6 columns</p>\n",
       "</div>"
      ],
      "text/plain": [
       "                   Open         High          Low        Close    Adj Close  \\\n",
       "Date                                                                          \n",
       "2004-01-05   817.280029   825.429993   816.549988   824.099976   824.099976   \n",
       "2004-01-06   831.260010   831.260010   819.530029   823.429993   823.429993   \n",
       "2004-01-07   826.080017   831.070007   825.229980   827.070007   827.070007   \n",
       "2004-01-08   831.099976   839.280029   824.150024   824.150024   824.150024   \n",
       "2004-01-09   835.419983   849.500000   835.049988   845.270020   845.270020   \n",
       "...                 ...          ...          ...          ...          ...   \n",
       "2020-09-29  2331.510010  2339.830078  2320.040039  2327.889893  2327.889893   \n",
       "2020-10-05  2330.550049  2364.729980  2327.830078  2358.000000  2358.000000   \n",
       "2020-10-06  2369.169922  2378.280029  2355.389893  2365.899902  2365.899902   \n",
       "2020-10-07  2350.820068  2387.449951  2347.820068  2386.939941  2386.939941   \n",
       "2020-10-08  2408.489990  2409.010010  2383.820068  2398.649902  2398.649902   \n",
       "\n",
       "            Volume  \n",
       "Date                \n",
       "2004-01-05  408200  \n",
       "2004-01-06  484000  \n",
       "2004-01-07  404600  \n",
       "2004-01-08  428800  \n",
       "2004-01-09  543200  \n",
       "...            ...  \n",
       "2020-09-29  646200  \n",
       "2020-10-05  763600  \n",
       "2020-10-06  861800  \n",
       "2020-10-07  735800  \n",
       "2020-10-08  894089  \n",
       "\n",
       "[4132 rows x 6 columns]"
      ]
     },
     "execution_count": 26,
     "metadata": {},
     "output_type": "execute_result"
    }
   ],
   "source": [
    "kospi"
   ]
  },
  {
   "cell_type": "code",
   "execution_count": 27,
   "metadata": {},
   "outputs": [],
   "source": [
    "window = 252   # 1년동안의 주식 개장일을 약 252로 선정했다. \n",
    "\n",
    "peak = kospi['Adj Close'].rolling(window,min_periods=1).max() # 코스피종가컬럼에서 최고치 peak을 구한다.\n",
    "\n",
    "drawdown = kospi['Adj Close']/peak-1  # 최고치 대비 현재 kospi종가가 얼마나 하락했는지 구한다.\n",
    "\n",
    "max_dd = drawdown.rolling(window,min_periods=1).min()  # 최저치구하기. 여기서 최저치가 최대낙폭손실이 된다. "
   ]
  },
  {
   "cell_type": "code",
   "execution_count": 28,
   "metadata": {},
   "outputs": [
    {
     "data": {
      "image/png": "[encoded data removed]",
      "text/plain": [
       "<Figure size 648x504 with 2 Axes>"
      ]
     },
     "metadata": {
      "needs_background": "light"
     },
     "output_type": "display_data"
    }
   ],
   "source": [
    "plt.figure(figsize=(9,7))\n",
    "plt.subplot(211)  # 2행1열 중 1행에 그린다. \n",
    "kospi['Close'].plot(label = 'KOSPI', title = 'KOSPI MDD', grid =True, legend=True)\n",
    "\n",
    "plt.subplot(212)  # 2행1열 중 2행에 그린다. \n",
    "drawdown.plot(c='blue', label = 'KOSPI DD', grid=True,legend=True)\n",
    "max_dd.plot(c='red', label = 'KOSPI MDD', grid=True, legend=True)\n",
    "plt.show()"
   ]
  },
  {
   "cell_type": "code",
   "execution_count": 29,
   "metadata": {},
   "outputs": [
    {
     "data": {
      "text/plain": [
       "-0.5453665130144085"
      ]
     },
     "execution_count": 29,
     "metadata": {},
     "output_type": "execute_result"
    }
   ],
   "source": [
    "max_dd.min()"
   ]
  },
  {
   "cell_type": "markdown",
   "metadata": {},
   "source": [
    "- 2008년 10월 금융위기 장시 KOSPI지수가 하락하면서 MDD가 약 -54.5%를 기록했다. 정확한 수치는 위와 같다.\n",
    "<br/>\n",
    "<br/>\n",
    "\n",
    "- MDD를 기록한 구간을 구하기 위해 아래과 같이 적용.\n",
    "    * 2008년 10월 24일부터 2009년 10월 21일까지 약 1년간 주어진 max_dd 수치와 일치한 것을 확인할 수 있다."
   ]
  },
  {
   "cell_type": "code",
   "execution_count": 30,
   "metadata": {},
   "outputs": [
    {
     "data": {
      "text/plain": [
       "Date\n",
       "2008-10-24   -0.545367\n",
       "2008-10-27   -0.545367\n",
       "2008-10-28   -0.545367\n",
       "2008-10-29   -0.545367\n",
       "2008-10-30   -0.545367\n",
       "                ...   \n",
       "2009-10-16   -0.545367\n",
       "2009-10-19   -0.545367\n",
       "2009-10-20   -0.545367\n",
       "2009-10-21   -0.545367\n",
       "2009-10-22   -0.545367\n",
       "Name: Adj Close, Length: 252, dtype: float64"
      ]
     },
     "execution_count": 30,
     "metadata": {},
     "output_type": "execute_result"
    }
   ],
   "source": [
    "max_dd[max_dd==-0.5453665130144085]"
   ]
  },
  {
   "cell_type": "markdown",
   "metadata": {},
   "source": [
    "# KOSPI와 다우존스 지수비교\n",
    "* 국내주식과 미국주식의 상관관계를 비교하기 위해 야후 파이낸스로 부터 2000년 1월부터 현재까지 KOSPI와 다우존스 지수 데이터를 불러온다."
   ]
  },
  {
   "cell_type": "code",
   "execution_count": 31,
   "metadata": {},
   "outputs": [
    {
     "name": "stdout",
     "output_type": "stream",
     "text": [
      "[*********************100%***********************]  1 of 1 completed\n",
      "[*********************100%***********************]  1 of 1 completed\n"
     ]
    }
   ],
   "source": [
    "dow = pdr.get_data_yahoo('^DJI','2000-01-04')\n",
    "kospi = pdr.get_data_yahoo('^KS11','2000-01-04')"
   ]
  },
  {
   "cell_type": "code",
   "execution_count": 32,
   "metadata": {},
   "outputs": [
    {
     "data": {
      "image/png": "[encoded data removed]",
      "text/plain": [
       "<Figure size 648x504 with 1 Axes>"
      ]
     },
     "metadata": {
      "needs_background": "light"
     },
     "output_type": "display_data"
    }
   ],
   "source": [
    "plt.figure(figsize=(9,7))\n",
    "plt.plot(dow.index,dow.Close,'r--',label='Dow Jones Industrial')\n",
    "plt.plot(kospi.index,kospi['Close'],'b',label='KOSPI')\n",
    "plt.grid(True)\n",
    "plt.legend(loc='best')\n",
    "plt.show()"
   ]
  },
  {
   "cell_type": "markdown",
   "metadata": {},
   "source": [
    "* 일반종가로는 지수수치 차이가 많이나서 그래프를 해석하기 힘들다. \n",
    "* 현재종가를 특정시점 종가로 나누어 변동률을 구해보자. (지수화 이용)"
   ]
  },
  {
   "cell_type": "markdown",
   "metadata": {},
   "source": [
    "#### 지수화 비교"
   ]
  },
  {
   "cell_type": "code",
   "execution_count": 33,
   "metadata": {},
   "outputs": [],
   "source": [
    "d = (dow.Close/dow.Close.loc['2000-01-04'])*100\n",
    "k = (kospi.Close/kospi.Close.loc['2000-01-04'])*100"
   ]
  },
  {
   "cell_type": "code",
   "execution_count": 34,
   "metadata": {},
   "outputs": [
    {
     "data": {
      "image/png": "[encoded data removed]",
      "text/plain": [
       "<Figure size 648x504 with 1 Axes>"
      ]
     },
     "metadata": {
      "needs_background": "light"
     },
     "output_type": "display_data"
    }
   ],
   "source": [
    "plt.figure(figsize=(9,7))\n",
    "plt.plot(d.index,d,'r--',label='Dow Jones Industrial')\n",
    "plt.plot(k.index,k,'b',label='KOSPI')\n",
    "plt.grid(True)\n",
    "plt.legend(loc='best')\n",
    "plt.show()"
   ]
  },
  {
   "cell_type": "markdown",
   "metadata": {},
   "source": [
    "* 종가(dow[Close])를 2000년 1월 4일 종가로 나눈 뒤 100을 곱하면 2000년 1월4일 종가대비 해당 날짜의 변동률을 구할 수 있다. \n",
    "* 이런것을 '지수화'라고 한다. \n",
    "<br/>\n",
    "<br/>\n",
    "* 지수화를 하고 나니 20년간 KOSPI상승률과 다우존스지수의 상승률이 비슷하다는 것을 알 수 있다.\n"
   ]
  },
  {
   "cell_type": "markdown",
   "metadata": {},
   "source": [
    "#### 산점도분석\n",
    "* x축은 독립변수, y축은 종속변수\n",
    "* 미국시장과 국내시장의 상관관계를 살펴보고자 x축에 다우존스지수, y축에 KOSPI지수"
   ]
  },
  {
   "cell_type": "code",
   "execution_count": 38,
   "metadata": {},
   "outputs": [
    {
     "name": "stdout",
     "output_type": "stream",
     "text": [
      "5225\n",
      "5112\n"
     ]
    }
   ],
   "source": [
    "print(len(dow))\n",
    "print(len(kospi))"
   ]
  },
  {
   "cell_type": "markdown",
   "metadata": {},
   "source": [
    "* 2개를 비교해서 산점도를 그리기 위해서는 사이즈가 동일해야 한다.\n",
    "<br/>\n",
    "<br/>\n",
    "<br/>\n",
    "* 다우존스 지수 종가와 KOSPI 지수 종가를 합쳐 df라는 데이터프레임을 생성한다."
   ]
  },
  {
   "cell_type": "code",
   "execution_count": 42,
   "metadata": {},
   "outputs": [
    {
     "data": {
      "text/html": [
       "<div>\n",
       "<style scoped>\n",
       "    .dataframe tbody tr th:only-of-type {\n",
       "        vertical-align: middle;\n",
       "    }\n",
       "\n",
       "    .dataframe tbody tr th {\n",
       "        vertical-align: top;\n",
       "    }\n",
       "\n",
       "    .dataframe thead th {\n",
       "        text-align: right;\n",
       "    }\n",
       "</style>\n",
       "<table border=\"1\" class=\"dataframe\">\n",
       "  <thead>\n",
       "    <tr style=\"text-align: right;\">\n",
       "      <th></th>\n",
       "      <th>DOW</th>\n",
       "      <th>KOSPI</th>\n",
       "    </tr>\n",
       "    <tr>\n",
       "      <th>Date</th>\n",
       "      <th></th>\n",
       "      <th></th>\n",
       "    </tr>\n",
       "  </thead>\n",
       "  <tbody>\n",
       "    <tr>\n",
       "      <th>2000-01-03</th>\n",
       "      <td>11357.509766</td>\n",
       "      <td>NaN</td>\n",
       "    </tr>\n",
       "    <tr>\n",
       "      <th>2000-01-04</th>\n",
       "      <td>10997.929688</td>\n",
       "      <td>1059.040039</td>\n",
       "    </tr>\n",
       "    <tr>\n",
       "      <th>2000-01-05</th>\n",
       "      <td>11122.650391</td>\n",
       "      <td>986.309998</td>\n",
       "    </tr>\n",
       "    <tr>\n",
       "      <th>2000-01-06</th>\n",
       "      <td>11253.259766</td>\n",
       "      <td>960.789978</td>\n",
       "    </tr>\n",
       "    <tr>\n",
       "      <th>2000-01-07</th>\n",
       "      <td>11522.559570</td>\n",
       "      <td>948.650024</td>\n",
       "    </tr>\n",
       "    <tr>\n",
       "      <th>...</th>\n",
       "      <td>...</td>\n",
       "      <td>...</td>\n",
       "    </tr>\n",
       "    <tr>\n",
       "      <th>2020-10-02</th>\n",
       "      <td>27682.810547</td>\n",
       "      <td>NaN</td>\n",
       "    </tr>\n",
       "    <tr>\n",
       "      <th>2020-10-05</th>\n",
       "      <td>28148.640625</td>\n",
       "      <td>2358.000000</td>\n",
       "    </tr>\n",
       "    <tr>\n",
       "      <th>2020-10-06</th>\n",
       "      <td>27772.759766</td>\n",
       "      <td>2365.899902</td>\n",
       "    </tr>\n",
       "    <tr>\n",
       "      <th>2020-10-07</th>\n",
       "      <td>28303.460938</td>\n",
       "      <td>2386.939941</td>\n",
       "    </tr>\n",
       "    <tr>\n",
       "      <th>2020-10-08</th>\n",
       "      <td>NaN</td>\n",
       "      <td>2397.500000</td>\n",
       "    </tr>\n",
       "  </tbody>\n",
       "</table>\n",
       "<p>5382 rows × 2 columns</p>\n",
       "</div>"
      ],
      "text/plain": [
       "                     DOW        KOSPI\n",
       "Date                                 \n",
       "2000-01-03  11357.509766          NaN\n",
       "2000-01-04  10997.929688  1059.040039\n",
       "2000-01-05  11122.650391   986.309998\n",
       "2000-01-06  11253.259766   960.789978\n",
       "2000-01-07  11522.559570   948.650024\n",
       "...                  ...          ...\n",
       "2020-10-02  27682.810547          NaN\n",
       "2020-10-05  28148.640625  2358.000000\n",
       "2020-10-06  27772.759766  2365.899902\n",
       "2020-10-07  28303.460938  2386.939941\n",
       "2020-10-08           NaN  2397.500000\n",
       "\n",
       "[5382 rows x 2 columns]"
      ]
     },
     "execution_count": 42,
     "metadata": {},
     "output_type": "execute_result"
    }
   ],
   "source": [
    "df = pd.DataFrame({'DOW':dow['Close'], 'KOSPI':kospi['Close']})\n",
    "df"
   ]
  },
  {
   "cell_type": "markdown",
   "metadata": {},
   "source": [
    "* 한쪽에 데이터 값이 없으면 자동적으로 NaN값을로 채워준다.\n",
    "* 산점도를 출력하려면 NaN값이 존재하면 안되기 때문에 NaN값제거!\n",
    "<br/>\n",
    "<br/>\n",
    "* fillna를 사용하여 NaN값을 채운다.<br> bfill은 뒤에 있는 값을로 NaN값을 채운다는 것이다."
   ]
  },
  {
   "cell_type": "code",
   "execution_count": 46,
   "metadata": {},
   "outputs": [],
   "source": [
    "df = df.fillna(method='bfill')"
   ]
  },
  {
   "cell_type": "code",
   "execution_count": 47,
   "metadata": {},
   "outputs": [
    {
     "data": {
      "text/html": [
       "<div>\n",
       "<style scoped>\n",
       "    .dataframe tbody tr th:only-of-type {\n",
       "        vertical-align: middle;\n",
       "    }\n",
       "\n",
       "    .dataframe tbody tr th {\n",
       "        vertical-align: top;\n",
       "    }\n",
       "\n",
       "    .dataframe thead th {\n",
       "        text-align: right;\n",
       "    }\n",
       "</style>\n",
       "<table border=\"1\" class=\"dataframe\">\n",
       "  <thead>\n",
       "    <tr style=\"text-align: right;\">\n",
       "      <th></th>\n",
       "      <th>DOW</th>\n",
       "      <th>KOSPI</th>\n",
       "    </tr>\n",
       "    <tr>\n",
       "      <th>Date</th>\n",
       "      <th></th>\n",
       "      <th></th>\n",
       "    </tr>\n",
       "  </thead>\n",
       "  <tbody>\n",
       "    <tr>\n",
       "      <th>2000-01-03</th>\n",
       "      <td>11357.509766</td>\n",
       "      <td>1059.040039</td>\n",
       "    </tr>\n",
       "    <tr>\n",
       "      <th>2000-01-04</th>\n",
       "      <td>10997.929688</td>\n",
       "      <td>1059.040039</td>\n",
       "    </tr>\n",
       "    <tr>\n",
       "      <th>2000-01-05</th>\n",
       "      <td>11122.650391</td>\n",
       "      <td>986.309998</td>\n",
       "    </tr>\n",
       "    <tr>\n",
       "      <th>2000-01-06</th>\n",
       "      <td>11253.259766</td>\n",
       "      <td>960.789978</td>\n",
       "    </tr>\n",
       "    <tr>\n",
       "      <th>2000-01-07</th>\n",
       "      <td>11522.559570</td>\n",
       "      <td>948.650024</td>\n",
       "    </tr>\n",
       "    <tr>\n",
       "      <th>...</th>\n",
       "      <td>...</td>\n",
       "      <td>...</td>\n",
       "    </tr>\n",
       "    <tr>\n",
       "      <th>2020-10-02</th>\n",
       "      <td>27682.810547</td>\n",
       "      <td>2358.000000</td>\n",
       "    </tr>\n",
       "    <tr>\n",
       "      <th>2020-10-05</th>\n",
       "      <td>28148.640625</td>\n",
       "      <td>2358.000000</td>\n",
       "    </tr>\n",
       "    <tr>\n",
       "      <th>2020-10-06</th>\n",
       "      <td>27772.759766</td>\n",
       "      <td>2365.899902</td>\n",
       "    </tr>\n",
       "    <tr>\n",
       "      <th>2020-10-07</th>\n",
       "      <td>28303.460938</td>\n",
       "      <td>2386.939941</td>\n",
       "    </tr>\n",
       "    <tr>\n",
       "      <th>2020-10-08</th>\n",
       "      <td>NaN</td>\n",
       "      <td>2397.500000</td>\n",
       "    </tr>\n",
       "  </tbody>\n",
       "</table>\n",
       "<p>5382 rows × 2 columns</p>\n",
       "</div>"
      ],
      "text/plain": [
       "                     DOW        KOSPI\n",
       "Date                                 \n",
       "2000-01-03  11357.509766  1059.040039\n",
       "2000-01-04  10997.929688  1059.040039\n",
       "2000-01-05  11122.650391   986.309998\n",
       "2000-01-06  11253.259766   960.789978\n",
       "2000-01-07  11522.559570   948.650024\n",
       "...                  ...          ...\n",
       "2020-10-02  27682.810547  2358.000000\n",
       "2020-10-05  28148.640625  2358.000000\n",
       "2020-10-06  27772.759766  2365.899902\n",
       "2020-10-07  28303.460938  2386.939941\n",
       "2020-10-08           NaN  2397.500000\n",
       "\n",
       "[5382 rows x 2 columns]"
      ]
     },
     "execution_count": 47,
     "metadata": {},
     "output_type": "execute_result"
    }
   ],
   "source": [
    "df"
   ]
  },
  {
   "cell_type": "markdown",
   "metadata": {},
   "source": [
    "* bfill은 NaN뒤에 있는 값으로 NaN을 채우는 것이기 때문에 만약 가장 맨 밑의 행에 NaN이 있으면 이 것은 bfill로 채울 수 없다. <br> 이럴 때는 ffill을 이용해서 NaN앞에 있는 값으로 NaN값을 채운다."
   ]
  },
  {
   "cell_type": "code",
   "execution_count": 48,
   "metadata": {},
   "outputs": [
    {
     "data": {
      "text/html": [
       "<div>\n",
       "<style scoped>\n",
       "    .dataframe tbody tr th:only-of-type {\n",
       "        vertical-align: middle;\n",
       "    }\n",
       "\n",
       "    .dataframe tbody tr th {\n",
       "        vertical-align: top;\n",
       "    }\n",
       "\n",
       "    .dataframe thead th {\n",
       "        text-align: right;\n",
       "    }\n",
       "</style>\n",
       "<table border=\"1\" class=\"dataframe\">\n",
       "  <thead>\n",
       "    <tr style=\"text-align: right;\">\n",
       "      <th></th>\n",
       "      <th>DOW</th>\n",
       "      <th>KOSPI</th>\n",
       "    </tr>\n",
       "    <tr>\n",
       "      <th>Date</th>\n",
       "      <th></th>\n",
       "      <th></th>\n",
       "    </tr>\n",
       "  </thead>\n",
       "  <tbody>\n",
       "    <tr>\n",
       "      <th>2000-01-03</th>\n",
       "      <td>11357.509766</td>\n",
       "      <td>1059.040039</td>\n",
       "    </tr>\n",
       "    <tr>\n",
       "      <th>2000-01-04</th>\n",
       "      <td>10997.929688</td>\n",
       "      <td>1059.040039</td>\n",
       "    </tr>\n",
       "    <tr>\n",
       "      <th>2000-01-05</th>\n",
       "      <td>11122.650391</td>\n",
       "      <td>986.309998</td>\n",
       "    </tr>\n",
       "    <tr>\n",
       "      <th>2000-01-06</th>\n",
       "      <td>11253.259766</td>\n",
       "      <td>960.789978</td>\n",
       "    </tr>\n",
       "    <tr>\n",
       "      <th>2000-01-07</th>\n",
       "      <td>11522.559570</td>\n",
       "      <td>948.650024</td>\n",
       "    </tr>\n",
       "    <tr>\n",
       "      <th>...</th>\n",
       "      <td>...</td>\n",
       "      <td>...</td>\n",
       "    </tr>\n",
       "    <tr>\n",
       "      <th>2020-10-02</th>\n",
       "      <td>27682.810547</td>\n",
       "      <td>2358.000000</td>\n",
       "    </tr>\n",
       "    <tr>\n",
       "      <th>2020-10-05</th>\n",
       "      <td>28148.640625</td>\n",
       "      <td>2358.000000</td>\n",
       "    </tr>\n",
       "    <tr>\n",
       "      <th>2020-10-06</th>\n",
       "      <td>27772.759766</td>\n",
       "      <td>2365.899902</td>\n",
       "    </tr>\n",
       "    <tr>\n",
       "      <th>2020-10-07</th>\n",
       "      <td>28303.460938</td>\n",
       "      <td>2386.939941</td>\n",
       "    </tr>\n",
       "    <tr>\n",
       "      <th>2020-10-08</th>\n",
       "      <td>28303.460938</td>\n",
       "      <td>2397.500000</td>\n",
       "    </tr>\n",
       "  </tbody>\n",
       "</table>\n",
       "<p>5382 rows × 2 columns</p>\n",
       "</div>"
      ],
      "text/plain": [
       "                     DOW        KOSPI\n",
       "Date                                 \n",
       "2000-01-03  11357.509766  1059.040039\n",
       "2000-01-04  10997.929688  1059.040039\n",
       "2000-01-05  11122.650391   986.309998\n",
       "2000-01-06  11253.259766   960.789978\n",
       "2000-01-07  11522.559570   948.650024\n",
       "...                  ...          ...\n",
       "2020-10-02  27682.810547  2358.000000\n",
       "2020-10-05  28148.640625  2358.000000\n",
       "2020-10-06  27772.759766  2365.899902\n",
       "2020-10-07  28303.460938  2386.939941\n",
       "2020-10-08  28303.460938  2397.500000\n",
       "\n",
       "[5382 rows x 2 columns]"
      ]
     },
     "execution_count": 48,
     "metadata": {},
     "output_type": "execute_result"
    }
   ],
   "source": [
    "df = df.fillna(method='ffill')\n",
    "df"
   ]
  },
  {
   "cell_type": "code",
   "execution_count": 49,
   "metadata": {},
   "outputs": [
    {
     "name": "stdout",
     "output_type": "stream",
     "text": [
      "[*********************100%***********************]  1 of 1 completed\n",
      "[*********************100%***********************]  1 of 1 completed\n"
     ]
    },
    {
     "data": {
      "image/png": "[encoded data removed]",
      "text/plain": [
       "<Figure size 504x504 with 1 Axes>"
      ]
     },
     "metadata": {
      "needs_background": "light"
     },
     "output_type": "display_data"
    }
   ],
   "source": [
    "import pandas as pd\n",
    "from pandas_datareader import data as pdr\n",
    "import yfinance as yf\n",
    "yf.pdr_override()\n",
    " \n",
    "dow = pdr.get_data_yahoo('^DJI', '2000-01-04')\n",
    "kospi = pdr.get_data_yahoo('^KS11', '2000-01-04')\n",
    "\n",
    "df = pd.DataFrame({'DOW': dow['Close'], 'KOSPI': kospi['Close']})\n",
    "df = df.fillna(method='bfill')\n",
    "df = df.fillna(method='ffill')\n",
    "\n",
    "import matplotlib.pyplot as plt\n",
    "plt.figure(figsize=(7, 7))\n",
    "plt.scatter(df['DOW'], df['KOSPI'], marker='.')\n",
    "plt.xlabel('Dow Jones Industrial Average')\n",
    "plt.ylabel('KOSPI')\n",
    "plt.show()"
   ]
  },
  {
   "cell_type": "markdown",
   "metadata": {},
   "source": [
    "* 다우존스 지수와 KOSPI지수는 어느 정도 영향을 미친다는 사실을 확인 할 수 있다.<br> 이를 더 자세히 확인하기 위해 션형회귀를 사용해서 다시 확인하겠다."
   ]
  },
  {
   "cell_type": "markdown",
   "metadata": {},
   "source": [
    "#### 선형회귀분석\n",
    "* linregress()함수 : 객체 2개만으로 간단히 선형회귀모델을 생성하여 분석할 수 있다. \n",
    "     - slope     : 기울기\n",
    "     - intercept : y절편\n",
    "     - rvalue    : 상관계수\n",
    "     - pvalue    : p값\n",
    "     - stderr    : 표준편차"
   ]
  },
  {
   "cell_type": "code",
   "execution_count": 51,
   "metadata": {},
   "outputs": [
    {
     "data": {
      "text/plain": [
       "LinregressResult(slope=0.07771393814600742, intercept=447.15958557950944, rvalue=0.7485733897459776, pvalue=0.0, stderr=0.0009384711953854392)"
      ]
     },
     "execution_count": 51,
     "metadata": {},
     "output_type": "execute_result"
    }
   ],
   "source": [
    "from scipy import stats\n",
    "regr = stats.linregress(df['DOW'],df['KOSPI'])\n",
    "regr"
   ]
  },
  {
   "cell_type": "markdown",
   "metadata": {},
   "source": [
    "#### 상관계수\n",
    "* corr()함수 : 독립변수와 종속변수 사이의 상관관계 정도를 나타내는 수치\n",
    "    - -1 ~ 1 사이이다.\n",
    "    -  1  : 가장 강한 양의 상관관계\n",
    "    - -1 : 가장 강한 음의 상관관계\n",
    "    - 0  : 상관관계 없음"
   ]
  },
  {
   "cell_type": "code",
   "execution_count": 53,
   "metadata": {},
   "outputs": [
    {
     "data": {
      "text/plain": [
       "0.7485733897459775"
      ]
     },
     "execution_count": 53,
     "metadata": {},
     "output_type": "execute_result"
    }
   ],
   "source": [
    "df.corr()\n",
    "\n",
    "# 시리즈로 상관계수 구하기\n",
    "df['DOW'].corr(df['KOSPI'])"
   ]
  },
  {
   "cell_type": "markdown",
   "metadata": {},
   "source": [
    "#### 결정계수\n",
    "* 관측된 데이터에서 추정한 회귀선이 실제로 데이터를 어느 정도 설명하는지를 나타내는 계수\n",
    "* 상관계수를 제곱한 값\n",
    "* r_squared\n",
    "     - 결정계수가 1이면 추정된 회귀선이 변수 간의 관계를 완벽하게 설명한다.\n",
    "     - 결정계수가 0이면 회귀선이 변수 사이의 관계를 전혀 설명하지 못한다."
   ]
  },
  {
   "cell_type": "markdown",
   "metadata": {},
   "source": [
    "#### 회귀분석 비교 (다우존스와 KOSPI)"
   ]
  },
  {
   "cell_type": "code",
   "execution_count": 54,
   "metadata": {},
   "outputs": [
    {
     "name": "stdout",
     "output_type": "stream",
     "text": [
      "[*********************100%***********************]  1 of 1 completed\n",
      "[*********************100%***********************]  1 of 1 completed\n"
     ]
    },
    {
     "data": {
      "image/png": "[encoded data removed]",
      "text/plain": [
       "<Figure size 504x504 with 1 Axes>"
      ]
     },
     "metadata": {
      "needs_background": "light"
     },
     "output_type": "display_data"
    }
   ],
   "source": [
    "import pandas as pd\n",
    "from pandas_datareader import data as pdr\n",
    "import yfinance as yf\n",
    "yf.pdr_override()\n",
    "from scipy import stats\n",
    "import matplotlib.pylab as plt\n",
    "\n",
    "dow = pdr.get_data_yahoo('^DJI', '2000-01-04')   \n",
    "kospi = pdr.get_data_yahoo('^KS11', '2000-01-04')\n",
    "\n",
    "df = pd.DataFrame({'X':dow['Close'], 'Y':kospi['Close']})\n",
    "df = df.fillna(method='bfill')\n",
    "df = df.fillna(method='ffill')\n",
    "\n",
    "regr = stats.linregress(df.X, df.Y)\n",
    "regr_line = f'Y = {regr.slope:2f}  X + {regr.intercept:2f}'\n",
    "\n",
    "plt.figure(figsize=(7, 7))\n",
    "plt.plot(df.X, df.Y, '.') \n",
    "plt.plot(df.X, regr.slope * df.X + regr.intercept, 'r')\n",
    "plt.legend(['DOW x KOSPI', regr_line])\n",
    "plt.title(f'DOW x KOSPI (R = {regr.rvalue:2f})')\n",
    "plt.xlabel('Dow Jones Industrial Average')\n",
    "plt.ylabel('KOSPI')\n",
    "plt.show()"
   ]
  },
  {
   "cell_type": "markdown",
   "metadata": {},
   "source": [
    "* 다우존스와 KOSPI간의 상관관계는 0.748573 <br> 회귀식은 Y = 0.077714x + 44.159586"
   ]
  },
  {
   "cell_type": "markdown",
   "metadata": {},
   "source": [
    "###### 해리 마코위츠 박사가 체계화한 ' 현대 포트폴리오 이론' 에 따르면 투자에 대한 수익과 위험은 평균과 분산으로 나타낼 수 있으며, 상관관게가 낮은 자산을 대상으로 분산 투자하면  위험을 감소시킬 수 있다'\n",
    "<br>\n",
    "\n",
    "###### 상관계수에 따른 리스트 완화 효과\n",
    "* 1   : 리스트 완화 효과 없음\n",
    "* 0.5 : 중간정도의 리스크 완화 효과 있음\n",
    "* 0   : 상당한 리스크 완화 효과가 있음\n",
    "* -0.5: 대부분의 리스크를 제거함\n",
    "* -1  : 모든 리스크를 제거함"
   ]
  },
  {
   "cell_type": "code",
   "execution_count": null,
   "metadata": {},
   "outputs": [],
   "source": []
  }
 ],
 "metadata": {
  "kernelspec": {
   "display_name": "Python 3",
   "language": "python",
   "name": "python3"
  },
  "language_info": {
   "codemirror_mode": {
    "name": "ipython",
    "version": 3
   },
   "file_extension": ".py",
   "mimetype": "text/x-python",
   "name": "python",
   "nbconvert_exporter": "python",
   "pygments_lexer": "ipython3",
   "version": "3.7.6"
  }
 },
 "nbformat": 4,
 "nbformat_minor": 4
}
