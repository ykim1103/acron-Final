{
 "cells": [
  {
   "cell_type": "markdown",
   "metadata": {},
   "source": [
    "# 야후 파이낸스로 주식시세 구하기\n",
    "  ### 야후 파이낸스에서 제공하는 삼성전자와 마이크로소프트 주식 시세를 데이터프레임으로 받아 분석\n",
    "   * 야후 파이낸스는 pip install yfinance로 설치\n",
    "   * 팬더스-데이터리더 라이브러리 pip installpandas-datareader로 설치\n",
    "   * 주식 시세를 구하기 위해서는 get_data_yahoo() 함수 사용\n",
    "    - get_data_yahoo(조회할 주식,start=조회기간시작일, end=조회기간의 종료일)\n",
    "    - 조회할 주식은 문자열이나, 리스트\n",
    "    - 조회 기간은 생략할 수 있다.\n",
    "    - 코스피종목을 조회하려면 6자리 종목코드 뒤에 .KS  \n",
    "    - 코스닥종목을 조회하려면 종목코드 뒤에 .KQ\n",
    "    - 미국기업 주식종목을 조회하려면 심볼(티커)를 사용하여 조회한다. "
   ]
  },
  {
   "cell_type": "code",
   "execution_count": 1,
   "metadata": {},
   "outputs": [],
   "source": [
    "from pandas_datareader import data as pdr\n",
    "import yfinance as yf\n",
    "yf.pdr_override()\n",
    "import matplotlib.pyplot as plt"
   ]
  },
  {
   "cell_type": "code",
   "execution_count": 2,
   "metadata": {},
   "outputs": [
    {
     "name": "stdout",
     "output_type": "stream",
     "text": [
      "[*********************100%***********************]  1 of 1 completed\n",
      "[*********************100%***********************]  1 of 1 completed\n"
     ]
    }
   ],
   "source": [
    "sec = pdr.get_data_yahoo('005930.KS',start='2019-01-01')  # 삼성주식\n",
    "msft = pdr.get_data_yahoo('MSFT',start='2019-01-01') # 마이크로 소프트 주식"
   ]
  },
  {
   "cell_type": "code",
   "execution_count": 3,
   "metadata": {},
   "outputs": [
    {
     "data": {
      "text/html": [
       "<div>\n",
       "<style scoped>\n",
       "    .dataframe tbody tr th:only-of-type {\n",
       "        vertical-align: middle;\n",
       "    }\n",
       "\n",
       "    .dataframe tbody tr th {\n",
       "        vertical-align: top;\n",
       "    }\n",
       "\n",
       "    .dataframe thead th {\n",
       "        text-align: right;\n",
       "    }\n",
       "</style>\n",
       "<table border=\"1\" class=\"dataframe\">\n",
       "  <thead>\n",
       "    <tr style=\"text-align: right;\">\n",
       "      <th></th>\n",
       "      <th>Open</th>\n",
       "      <th>High</th>\n",
       "      <th>Low</th>\n",
       "      <th>Close</th>\n",
       "      <th>Adj Close</th>\n",
       "      <th>Volume</th>\n",
       "    </tr>\n",
       "    <tr>\n",
       "      <th>Date</th>\n",
       "      <th></th>\n",
       "      <th></th>\n",
       "      <th></th>\n",
       "      <th></th>\n",
       "      <th></th>\n",
       "      <th></th>\n",
       "    </tr>\n",
       "  </thead>\n",
       "  <tbody>\n",
       "    <tr>\n",
       "      <th>2019-01-02</th>\n",
       "      <td>39400.0</td>\n",
       "      <td>39400.0</td>\n",
       "      <td>38550.0</td>\n",
       "      <td>38750.0</td>\n",
       "      <td>38750.0</td>\n",
       "      <td>7847664</td>\n",
       "    </tr>\n",
       "    <tr>\n",
       "      <th>2019-01-03</th>\n",
       "      <td>38300.0</td>\n",
       "      <td>38550.0</td>\n",
       "      <td>37450.0</td>\n",
       "      <td>37600.0</td>\n",
       "      <td>37600.0</td>\n",
       "      <td>12471493</td>\n",
       "    </tr>\n",
       "    <tr>\n",
       "      <th>2019-01-04</th>\n",
       "      <td>37450.0</td>\n",
       "      <td>37600.0</td>\n",
       "      <td>36850.0</td>\n",
       "      <td>37450.0</td>\n",
       "      <td>37450.0</td>\n",
       "      <td>14108958</td>\n",
       "    </tr>\n",
       "    <tr>\n",
       "      <th>2019-01-07</th>\n",
       "      <td>38000.0</td>\n",
       "      <td>38900.0</td>\n",
       "      <td>37800.0</td>\n",
       "      <td>38750.0</td>\n",
       "      <td>38750.0</td>\n",
       "      <td>12748997</td>\n",
       "    </tr>\n",
       "    <tr>\n",
       "      <th>2019-01-08</th>\n",
       "      <td>38000.0</td>\n",
       "      <td>39200.0</td>\n",
       "      <td>37950.0</td>\n",
       "      <td>38100.0</td>\n",
       "      <td>38100.0</td>\n",
       "      <td>12756554</td>\n",
       "    </tr>\n",
       "  </tbody>\n",
       "</table>\n",
       "</div>"
      ],
      "text/plain": [
       "               Open     High      Low    Close  Adj Close    Volume\n",
       "Date                                                               \n",
       "2019-01-02  39400.0  39400.0  38550.0  38750.0    38750.0   7847664\n",
       "2019-01-03  38300.0  38550.0  37450.0  37600.0    37600.0  12471493\n",
       "2019-01-04  37450.0  37600.0  36850.0  37450.0    37450.0  14108958\n",
       "2019-01-07  38000.0  38900.0  37800.0  38750.0    38750.0  12748997\n",
       "2019-01-08  38000.0  39200.0  37950.0  38100.0    38100.0  12756554"
      ]
     },
     "execution_count": 3,
     "metadata": {},
     "output_type": "execute_result"
    }
   ],
   "source": [
    "sec.head()"
   ]
  },
  {
   "cell_type": "code",
   "execution_count": 4,
   "metadata": {},
   "outputs": [
    {
     "data": {
      "text/html": [
       "<div>\n",
       "<style scoped>\n",
       "    .dataframe tbody tr th:only-of-type {\n",
       "        vertical-align: middle;\n",
       "    }\n",
       "\n",
       "    .dataframe tbody tr th {\n",
       "        vertical-align: top;\n",
       "    }\n",
       "\n",
       "    .dataframe thead th {\n",
       "        text-align: right;\n",
       "    }\n",
       "</style>\n",
       "<table border=\"1\" class=\"dataframe\">\n",
       "  <thead>\n",
       "    <tr style=\"text-align: right;\">\n",
       "      <th></th>\n",
       "      <th>Open</th>\n",
       "      <th>High</th>\n",
       "      <th>Low</th>\n",
       "      <th>Close</th>\n",
       "      <th>Adj Close</th>\n",
       "      <th>Volume</th>\n",
       "    </tr>\n",
       "    <tr>\n",
       "      <th>Date</th>\n",
       "      <th></th>\n",
       "      <th></th>\n",
       "      <th></th>\n",
       "      <th></th>\n",
       "      <th></th>\n",
       "      <th></th>\n",
       "    </tr>\n",
       "  </thead>\n",
       "  <tbody>\n",
       "    <tr>\n",
       "      <th>2018-12-31</th>\n",
       "      <td>101.290001</td>\n",
       "      <td>102.400002</td>\n",
       "      <td>100.440002</td>\n",
       "      <td>101.570000</td>\n",
       "      <td>99.300156</td>\n",
       "      <td>33173800</td>\n",
       "    </tr>\n",
       "    <tr>\n",
       "      <th>2019-01-02</th>\n",
       "      <td>99.550003</td>\n",
       "      <td>101.750000</td>\n",
       "      <td>98.940002</td>\n",
       "      <td>101.120003</td>\n",
       "      <td>98.860214</td>\n",
       "      <td>35329300</td>\n",
       "    </tr>\n",
       "    <tr>\n",
       "      <th>2019-01-03</th>\n",
       "      <td>100.099998</td>\n",
       "      <td>100.190002</td>\n",
       "      <td>97.199997</td>\n",
       "      <td>97.400002</td>\n",
       "      <td>95.223351</td>\n",
       "      <td>42579100</td>\n",
       "    </tr>\n",
       "    <tr>\n",
       "      <th>2019-01-04</th>\n",
       "      <td>99.720001</td>\n",
       "      <td>102.510002</td>\n",
       "      <td>98.930000</td>\n",
       "      <td>101.930000</td>\n",
       "      <td>99.652115</td>\n",
       "      <td>44060600</td>\n",
       "    </tr>\n",
       "    <tr>\n",
       "      <th>2019-01-07</th>\n",
       "      <td>101.639999</td>\n",
       "      <td>103.269997</td>\n",
       "      <td>100.980003</td>\n",
       "      <td>102.059998</td>\n",
       "      <td>99.779205</td>\n",
       "      <td>35656100</td>\n",
       "    </tr>\n",
       "  </tbody>\n",
       "</table>\n",
       "</div>"
      ],
      "text/plain": [
       "                  Open        High         Low       Close  Adj Close  \\\n",
       "Date                                                                    \n",
       "2018-12-31  101.290001  102.400002  100.440002  101.570000  99.300156   \n",
       "2019-01-02   99.550003  101.750000   98.940002  101.120003  98.860214   \n",
       "2019-01-03  100.099998  100.190002   97.199997   97.400002  95.223351   \n",
       "2019-01-04   99.720001  102.510002   98.930000  101.930000  99.652115   \n",
       "2019-01-07  101.639999  103.269997  100.980003  102.059998  99.779205   \n",
       "\n",
       "              Volume  \n",
       "Date                  \n",
       "2018-12-31  33173800  \n",
       "2019-01-02  35329300  \n",
       "2019-01-03  42579100  \n",
       "2019-01-04  44060600  \n",
       "2019-01-07  35656100  "
      ]
     },
     "execution_count": 4,
     "metadata": {},
     "output_type": "execute_result"
    }
   ],
   "source": [
    "msft.head()"
   ]
  },
  {
   "cell_type": "markdown",
   "metadata": {},
   "source": [
    "##### 변수설명\n",
    "* Open : 시가. 매일 열리는 주식 시장의 첫 시작 가격\n",
    "* High : 고가. 가장 높은 금액으로 거래\n",
    "* Low : 저가. 가장 낮은 금액으로 거래\n",
    "* Close : 종가. 하루 열린 장에서 가장 마지막으로 거래가 완료된 가격을 종가\n",
    "* Adj Close : 수정종가. 주식가격에 변동이 있을 경우 가격 변동 이전에 거래된 가격을 현재 주식에 맞춰 수정하여 표시한 가격\n",
    "* Volume : 거래량. 매매된 주식의 수량"
   ]
  },
  {
   "cell_type": "code",
   "execution_count": 5,
   "metadata": {},
   "outputs": [
    {
     "data": {
      "text/plain": [
       "DatetimeIndex(['2019-01-02', '2019-01-03', '2019-01-04', '2019-01-07',\n",
       "               '2019-01-08', '2019-01-09', '2019-01-10', '2019-01-11',\n",
       "               '2019-01-14', '2019-01-15',\n",
       "               ...\n",
       "               '2020-09-16', '2020-09-17', '2020-09-18', '2020-09-21',\n",
       "               '2020-09-22', '2020-09-23', '2020-09-24', '2020-09-25',\n",
       "               '2020-09-28', '2020-09-29'],\n",
       "              dtype='datetime64[ns]', name='Date', length=432, freq=None)"
      ]
     },
     "execution_count": 5,
     "metadata": {},
     "output_type": "execute_result"
    }
   ],
   "source": [
    "sec.index"
   ]
  },
  {
   "cell_type": "code",
   "execution_count": 6,
   "metadata": {},
   "outputs": [
    {
     "data": {
      "text/plain": [
       "DatetimeIndex(['2018-12-31', '2019-01-02', '2019-01-03', '2019-01-04',\n",
       "               '2019-01-07', '2019-01-08', '2019-01-09', '2019-01-10',\n",
       "               '2019-01-11', '2019-01-14',\n",
       "               ...\n",
       "               '2020-09-21', '2020-09-22', '2020-09-23', '2020-09-24',\n",
       "               '2020-09-25', '2020-09-28', '2020-09-29', '2020-09-30',\n",
       "               '2020-10-01', '2020-10-02'],\n",
       "              dtype='datetime64[ns]', name='Date', length=444, freq=None)"
      ]
     },
     "execution_count": 6,
     "metadata": {},
     "output_type": "execute_result"
    }
   ],
   "source": [
    "msft.index"
   ]
  },
  {
   "cell_type": "markdown",
   "metadata": {},
   "source": [
    "* 삼성전자(sec)와 마이크로소프트(msft)는 인덱스가 dataime형으로 되어 있다. "
   ]
  },
  {
   "cell_type": "code",
   "execution_count": 7,
   "metadata": {},
   "outputs": [
    {
     "data": {
      "text/plain": [
       "Index(['Open', 'High', 'Low', 'Close', 'Adj Close', 'Volume'], dtype='object')"
      ]
     },
     "execution_count": 7,
     "metadata": {},
     "output_type": "execute_result"
    }
   ],
   "source": [
    "sec.columns"
   ]
  },
  {
   "cell_type": "markdown",
   "metadata": {},
   "source": [
    "### 삼성전자와 마이크로소프트 종가 데이터를 이용한 그래프 "
   ]
  },
  {
   "cell_type": "code",
   "execution_count": 8,
   "metadata": {},
   "outputs": [
    {
     "data": {
      "image/png": "[encoded data removed]",
      "text/plain": [
       "<Figure size 720x504 with 1 Axes>"
      ]
     },
     "metadata": {
      "needs_background": "light"
     },
     "output_type": "display_data"
    }
   ],
   "source": [
    "plt.figure(figsize=(10,7))\n",
    "plt.plot(sec.index,sec['Close'],'b',label='Samsung Electronics')\n",
    "plt.plot(msft.index,msft.Close,'r--',label='Microsoft')\n",
    "plt.legend(loc='best')\n",
    "plt.show()"
   ]
  },
  {
   "cell_type": "markdown",
   "metadata": {},
   "source": [
    "##### 그래프설명\n",
    " - 삼성전자는 50000원 대 , 마이크로소프트는 130달러 대의 주가이기 때문에 숫자 차이가 커서 마이크로소프트 주가가 0인것 처럼 보인다.\n",
    " - 비교가 어렵기 때문에 일간변동률을 이용해 비교해 본다.\n",
    "<br/>\n",
    "<br/>\n",
    "\n",
    "\n",
    "##### 코드 설명\n",
    "* x 축에는 인덱스(날짜), y축에는 Close(종가)데이터.\n",
    "* plt.legend(loc='best')   ->  라벨 표가 적당히 빈 자리에 위치"
   ]
  },
  {
   "cell_type": "markdown",
   "metadata": {},
   "source": [
    "### 일간변동률로 삼성전자와 마이크로소프트 주가 비교하기"
   ]
  },
  {
   "cell_type": "markdown",
   "metadata": {},
   "source": [
    "일간 변동률 = (오늘종가-어제종가)/어제종가 *100"
   ]
  },
  {
   "cell_type": "code",
   "execution_count": 9,
   "metadata": {},
   "outputs": [
    {
     "data": {
      "text/plain": [
       "Date\n",
       "2019-01-02    38750.0\n",
       "2019-01-03    37600.0\n",
       "2019-01-04    37450.0\n",
       "2019-01-07    38750.0\n",
       "2019-01-08    38100.0\n",
       "               ...   \n",
       "2020-09-23    58600.0\n",
       "2020-09-24    57800.0\n",
       "2020-09-25    57900.0\n",
       "2020-09-28    58200.0\n",
       "2020-09-29    58200.0\n",
       "Name: Close, Length: 432, dtype: float64"
      ]
     },
     "execution_count": 9,
     "metadata": {},
     "output_type": "execute_result"
    }
   ],
   "source": [
    "sec['Close']"
   ]
  },
  {
   "cell_type": "code",
   "execution_count": 10,
   "metadata": {},
   "outputs": [
    {
     "data": {
      "text/plain": [
       "Date\n",
       "2019-01-02        NaN\n",
       "2019-01-03    38750.0\n",
       "2019-01-04    37600.0\n",
       "2019-01-07    37450.0\n",
       "2019-01-08    38750.0\n",
       "               ...   \n",
       "2020-09-23    58200.0\n",
       "2020-09-24    58600.0\n",
       "2020-09-25    57800.0\n",
       "2020-09-28    57900.0\n",
       "2020-09-29    58200.0\n",
       "Name: Close, Length: 432, dtype: float64"
      ]
     },
     "execution_count": 10,
     "metadata": {},
     "output_type": "execute_result"
    }
   ],
   "source": [
    "sec['Close'].shift(1)"
   ]
  },
  {
   "cell_type": "markdown",
   "metadata": {},
   "source": [
    "* shift는 데이터를 이동시킬 떄 사용하는 함수이다.  \n",
    "* shift(?)  ->  ?만큼 이동시킨다. \n",
    "* 한 칸씩 밀려서 1월2일자 주식정보가 1월3일로 들어가 있다. 그 말은 1월 3일 입장에서는 어제 날짜의 주식정보가 들어가 있는 것이다.\n",
    "* 즉, shift를 이용해서 해당날짜의 어제 주식정보를 들어가게 입력해 주었다. "
   ]
  },
  {
   "cell_type": "markdown",
   "metadata": {},
   "source": [
    "#### 일간변동률 코드"
   ]
  },
  {
   "cell_type": "code",
   "execution_count": 11,
   "metadata": {},
   "outputs": [],
   "source": [
    "sec_dpc = (sec['Close']-sec['Close'].shift(1))/sec['Close'].shift(1)*100   # 삼성"
   ]
  },
  {
   "cell_type": "code",
   "execution_count": 12,
   "metadata": {},
   "outputs": [],
   "source": [
    "msft_dpc = (msft['Close']-msft['Close'].shift(1))/msft['Close'].shift(1)*100  # 마이크로소프트"
   ]
  },
  {
   "cell_type": "code",
   "execution_count": 13,
   "metadata": {},
   "outputs": [
    {
     "data": {
      "text/plain": [
       "Date\n",
       "2019-01-02         NaN\n",
       "2019-01-03   -2.967742\n",
       "2019-01-04   -0.398936\n",
       "2019-01-07    3.471295\n",
       "2019-01-08   -1.677419\n",
       "                ...   \n",
       "2020-09-23    0.687285\n",
       "2020-09-24   -1.365188\n",
       "2020-09-25    0.173010\n",
       "2020-09-28    0.518135\n",
       "2020-09-29    0.000000\n",
       "Name: Close, Length: 432, dtype: float64"
      ]
     },
     "execution_count": 13,
     "metadata": {},
     "output_type": "execute_result"
    }
   ],
   "source": [
    "sec_dpc"
   ]
  },
  {
   "cell_type": "markdown",
   "metadata": {},
   "source": [
    "###### NaN값을 0으로 바꾼다."
   ]
  },
  {
   "cell_type": "code",
   "execution_count": 14,
   "metadata": {},
   "outputs": [
    {
     "data": {
      "text/plain": [
       "Date\n",
       "2019-01-02    0.000000\n",
       "2019-01-03   -2.967742\n",
       "2019-01-04   -0.398936\n",
       "2019-01-07    3.471295\n",
       "2019-01-08   -1.677419\n",
       "                ...   \n",
       "2020-09-23    0.687285\n",
       "2020-09-24   -1.365188\n",
       "2020-09-25    0.173010\n",
       "2020-09-28    0.518135\n",
       "2020-09-29    0.000000\n",
       "Name: Close, Length: 432, dtype: float64"
      ]
     },
     "execution_count": 14,
     "metadata": {},
     "output_type": "execute_result"
    }
   ],
   "source": [
    "sec_dpc.iloc[0] = 0 \n",
    "sec_dpc"
   ]
  },
  {
   "cell_type": "code",
   "execution_count": 15,
   "metadata": {},
   "outputs": [
    {
     "data": {
      "text/plain": [
       "Date\n",
       "2018-12-31    0.000000\n",
       "2019-01-02   -0.443041\n",
       "2019-01-03   -3.678799\n",
       "2019-01-04    4.650923\n",
       "2019-01-07    0.127536\n",
       "                ...   \n",
       "2020-09-28    0.779518\n",
       "2020-09-29   -1.040875\n",
       "2020-09-30    1.481235\n",
       "2020-10-01    1.012697\n",
       "2020-10-02   -2.951146\n",
       "Name: Close, Length: 444, dtype: float64"
      ]
     },
     "execution_count": 15,
     "metadata": {},
     "output_type": "execute_result"
    }
   ],
   "source": [
    "msft_dpc.iloc[0] = 0 \n",
    "msft_dpc"
   ]
  },
  {
   "cell_type": "markdown",
   "metadata": {},
   "source": [
    "###### 그래프그리기"
   ]
  },
  {
   "cell_type": "code",
   "execution_count": 16,
   "metadata": {},
   "outputs": [
    {
     "data": {
      "image/png": "[encoded data removed]",
      "text/plain": [
       "<Figure size 432x288 with 1 Axes>"
      ]
     },
     "metadata": {
      "needs_background": "light"
     },
     "output_type": "display_data"
    }
   ],
   "source": [
    "plt.hist(sec_dpc,bins=18)\n",
    "plt.grid(True)\n",
    "plt.show()"
   ]
  },
  {
   "cell_type": "code",
   "execution_count": 17,
   "metadata": {},
   "outputs": [
    {
     "data": {
      "image/png": "[encoded data removed]",
      "text/plain": [
       "<Figure size 432x288 with 1 Axes>"
      ]
     },
     "metadata": {
      "needs_background": "light"
     },
     "output_type": "display_data"
    }
   ],
   "source": [
    "plt.hist(msft_dpc,bins=18)\n",
    "plt.grid(True)\n",
    "plt.show()"
   ]
  },
  {
   "cell_type": "markdown",
   "metadata": {},
   "source": [
    "#### 일간변동률 누적합 \n",
    "* sec_dpc와 msft_dpc 는 일간변동률이다. 하지만 전체적인 변동룰의 비교해보려면 일간변동률의 누적합이 필요하다. \n",
    "* cumsum() 함수를 이용해 누적합을 구한다."
   ]
  },
  {
   "cell_type": "code",
   "execution_count": 18,
   "metadata": {},
   "outputs": [],
   "source": [
    "sec_dpc_sum = sec_dpc.cumsum()\n",
    "msft_dpc_sum = msft_dpc.cumsum()"
   ]
  },
  {
   "cell_type": "code",
   "execution_count": 19,
   "metadata": {},
   "outputs": [
    {
     "data": {
      "text/plain": [
       "Date\n",
       "2019-01-02     0.000000\n",
       "2019-01-03    -2.967742\n",
       "2019-01-04    -3.366678\n",
       "2019-01-07     0.104617\n",
       "2019-01-08    -1.572802\n",
       "                ...    \n",
       "2020-09-23    48.430333\n",
       "2020-09-24    47.065145\n",
       "2020-09-25    47.238155\n",
       "2020-09-28    47.756290\n",
       "2020-09-29    47.756290\n",
       "Name: Close, Length: 432, dtype: float64"
      ]
     },
     "execution_count": 19,
     "metadata": {},
     "output_type": "execute_result"
    }
   ],
   "source": [
    "sec_dpc_sum"
   ]
  },
  {
   "cell_type": "code",
   "execution_count": 20,
   "metadata": {},
   "outputs": [
    {
     "data": {
      "text/plain": [
       "Date\n",
       "2018-12-31     0.000000\n",
       "2019-01-02    -0.443041\n",
       "2019-01-03    -4.121840\n",
       "2019-01-04     0.529083\n",
       "2019-01-07     0.656619\n",
       "                ...    \n",
       "2020-09-28    83.173746\n",
       "2020-09-29    82.132871\n",
       "2020-09-30    83.614106\n",
       "2020-10-01    84.626803\n",
       "2020-10-02    81.675657\n",
       "Name: Close, Length: 444, dtype: float64"
      ]
     },
     "execution_count": 20,
     "metadata": {},
     "output_type": "execute_result"
    }
   ],
   "source": [
    "msft_dpc_sum"
   ]
  },
  {
   "cell_type": "code",
   "execution_count": 21,
   "metadata": {},
   "outputs": [
    {
     "data": {
      "image/png": "[encoded data removed]",
      "text/plain": [
       "<Figure size 432x288 with 1 Axes>"
      ]
     },
     "metadata": {
      "needs_background": "light"
     },
     "output_type": "display_data"
    }
   ],
   "source": [
    "plt.plot(sec.index,sec_dpc_sum,'b',label='Samsung Electronics')\n",
    "plt.plot(msft.index,msft_dpc_sum,'r--',label='Microsoft')\n",
    "plt.ylabel('Change %')\n",
    "plt.grid(True)\n",
    "plt.legend(loc='best')\n",
    "plt.show()"
   ]
  },
  {
   "cell_type": "markdown",
   "metadata": {},
   "source": [
    "# MDD(Maximum Drawdown) 최대 손실낙폭\n",
    "* 최대손실낙폭은 특정기간에 발생한 최고점에서 최저점까지의 가장 큰 손실을 의미. \n",
    "* 퀀트 투자에서는 수익률을 높이는 것보다 MDD를 낮추는 것이 더 낫다고 할 만큼 중요한 지표이다. \n",
    "* MDD에서는 rolling()함수가 중요하다!!!\n",
    "   - 사용법 : 시리즈.rolling(윈도우,min_periods=1).집계합수()\n",
    "   - rolling의 시리즈에서 윈도우 크기에 해당하는 갯수만큼 데이터를 추출하여 집계함수에 해당하는 연산을 한다.\n",
    "   - 집계합수는 max,min,mean 등을 사용할 수 있다.\n",
    "   "
   ]
  },
  {
   "cell_type": "code",
   "execution_count": 24,
   "metadata": {},
   "outputs": [
    {
     "name": "stdout",
     "output_type": "stream",
     "text": [
      "[*********************100%***********************]  1 of 1 completed\n"
     ]
    }
   ],
   "source": [
    "kospi = pdr.get_data_yahoo('^KS11','2004-01-04')    # ^KS11은 코스피지수를 의미"
   ]
  },
  {
   "cell_type": "code",
   "execution_count": 25,
   "metadata": {},
   "outputs": [
    {
     "data": {
      "text/html": [
       "<div>\n",
       "<style scoped>\n",
       "    .dataframe tbody tr th:only-of-type {\n",
       "        vertical-align: middle;\n",
       "    }\n",
       "\n",
       "    .dataframe tbody tr th {\n",
       "        vertical-align: top;\n",
       "    }\n",
       "\n",
       "    .dataframe thead th {\n",
       "        text-align: right;\n",
       "    }\n",
       "</style>\n",
       "<table border=\"1\" class=\"dataframe\">\n",
       "  <thead>\n",
       "    <tr style=\"text-align: right;\">\n",
       "      <th></th>\n",
       "      <th>Open</th>\n",
       "      <th>High</th>\n",
       "      <th>Low</th>\n",
       "      <th>Close</th>\n",
       "      <th>Adj Close</th>\n",
       "      <th>Volume</th>\n",
       "    </tr>\n",
       "    <tr>\n",
       "      <th>Date</th>\n",
       "      <th></th>\n",
       "      <th></th>\n",
       "      <th></th>\n",
       "      <th></th>\n",
       "      <th></th>\n",
       "      <th></th>\n",
       "    </tr>\n",
       "  </thead>\n",
       "  <tbody>\n",
       "    <tr>\n",
       "      <th>2004-01-05</th>\n",
       "      <td>817.280029</td>\n",
       "      <td>825.429993</td>\n",
       "      <td>816.549988</td>\n",
       "      <td>824.099976</td>\n",
       "      <td>824.099976</td>\n",
       "      <td>408200</td>\n",
       "    </tr>\n",
       "    <tr>\n",
       "      <th>2004-01-06</th>\n",
       "      <td>831.260010</td>\n",
       "      <td>831.260010</td>\n",
       "      <td>819.530029</td>\n",
       "      <td>823.429993</td>\n",
       "      <td>823.429993</td>\n",
       "      <td>484000</td>\n",
       "    </tr>\n",
       "    <tr>\n",
       "      <th>2004-01-07</th>\n",
       "      <td>826.080017</td>\n",
       "      <td>831.070007</td>\n",
       "      <td>825.229980</td>\n",
       "      <td>827.070007</td>\n",
       "      <td>827.070007</td>\n",
       "      <td>404600</td>\n",
       "    </tr>\n",
       "    <tr>\n",
       "      <th>2004-01-08</th>\n",
       "      <td>831.099976</td>\n",
       "      <td>839.280029</td>\n",
       "      <td>824.150024</td>\n",
       "      <td>824.150024</td>\n",
       "      <td>824.150024</td>\n",
       "      <td>428800</td>\n",
       "    </tr>\n",
       "    <tr>\n",
       "      <th>2004-01-09</th>\n",
       "      <td>835.419983</td>\n",
       "      <td>849.500000</td>\n",
       "      <td>835.049988</td>\n",
       "      <td>845.270020</td>\n",
       "      <td>845.270020</td>\n",
       "      <td>543200</td>\n",
       "    </tr>\n",
       "    <tr>\n",
       "      <th>...</th>\n",
       "      <td>...</td>\n",
       "      <td>...</td>\n",
       "      <td>...</td>\n",
       "      <td>...</td>\n",
       "      <td>...</td>\n",
       "      <td>...</td>\n",
       "    </tr>\n",
       "    <tr>\n",
       "      <th>2020-09-23</th>\n",
       "      <td>2352.560059</td>\n",
       "      <td>2354.459961</td>\n",
       "      <td>2287.439941</td>\n",
       "      <td>2333.239990</td>\n",
       "      <td>2333.239990</td>\n",
       "      <td>735000</td>\n",
       "    </tr>\n",
       "    <tr>\n",
       "      <th>2020-09-24</th>\n",
       "      <td>2295.620117</td>\n",
       "      <td>2309.739990</td>\n",
       "      <td>2268.879883</td>\n",
       "      <td>2272.699951</td>\n",
       "      <td>2272.699951</td>\n",
       "      <td>714900</td>\n",
       "    </tr>\n",
       "    <tr>\n",
       "      <th>2020-09-25</th>\n",
       "      <td>2295.189941</td>\n",
       "      <td>2296.360107</td>\n",
       "      <td>2267.629883</td>\n",
       "      <td>2278.790039</td>\n",
       "      <td>2278.790039</td>\n",
       "      <td>698000</td>\n",
       "    </tr>\n",
       "    <tr>\n",
       "      <th>2020-09-28</th>\n",
       "      <td>2301.159912</td>\n",
       "      <td>2314.810059</td>\n",
       "      <td>2291.320068</td>\n",
       "      <td>2308.080078</td>\n",
       "      <td>2308.080078</td>\n",
       "      <td>606000</td>\n",
       "    </tr>\n",
       "    <tr>\n",
       "      <th>2020-09-29</th>\n",
       "      <td>2331.510010</td>\n",
       "      <td>2339.830078</td>\n",
       "      <td>2320.040039</td>\n",
       "      <td>2327.889893</td>\n",
       "      <td>2327.889893</td>\n",
       "      <td>646200</td>\n",
       "    </tr>\n",
       "  </tbody>\n",
       "</table>\n",
       "<p>4128 rows × 6 columns</p>\n",
       "</div>"
      ],
      "text/plain": [
       "                   Open         High          Low        Close    Adj Close  \\\n",
       "Date                                                                          \n",
       "2004-01-05   817.280029   825.429993   816.549988   824.099976   824.099976   \n",
       "2004-01-06   831.260010   831.260010   819.530029   823.429993   823.429993   \n",
       "2004-01-07   826.080017   831.070007   825.229980   827.070007   827.070007   \n",
       "2004-01-08   831.099976   839.280029   824.150024   824.150024   824.150024   \n",
       "2004-01-09   835.419983   849.500000   835.049988   845.270020   845.270020   \n",
       "...                 ...          ...          ...          ...          ...   \n",
       "2020-09-23  2352.560059  2354.459961  2287.439941  2333.239990  2333.239990   \n",
       "2020-09-24  2295.620117  2309.739990  2268.879883  2272.699951  2272.699951   \n",
       "2020-09-25  2295.189941  2296.360107  2267.629883  2278.790039  2278.790039   \n",
       "2020-09-28  2301.159912  2314.810059  2291.320068  2308.080078  2308.080078   \n",
       "2020-09-29  2331.510010  2339.830078  2320.040039  2327.889893  2327.889893   \n",
       "\n",
       "            Volume  \n",
       "Date                \n",
       "2004-01-05  408200  \n",
       "2004-01-06  484000  \n",
       "2004-01-07  404600  \n",
       "2004-01-08  428800  \n",
       "2004-01-09  543200  \n",
       "...            ...  \n",
       "2020-09-23  735000  \n",
       "2020-09-24  714900  \n",
       "2020-09-25  698000  \n",
       "2020-09-28  606000  \n",
       "2020-09-29  646200  \n",
       "\n",
       "[4128 rows x 6 columns]"
      ]
     },
     "execution_count": 25,
     "metadata": {},
     "output_type": "execute_result"
    }
   ],
   "source": [
    "kospi"
   ]
  },
  {
   "cell_type": "code",
   "execution_count": 29,
   "metadata": {},
   "outputs": [],
   "source": [
    "window = 252   # 1년동안의 주식 개장일을 약 252로 선정했다. \n",
    "\n",
    "peak = kospi['Adj Close'].rolling(window,min_periods=1).max() # 코스피종가컬럼에서 최고치 peak을 구한다.\n",
    "\n",
    "drawdown = kospi['Adj Close']/peak-1  # 최고치 대비 현재 kospi종가가 얼마나 하락했는지 구한다.\n",
    "\n",
    "max_dd = drawdown.rolling(window,min_periods=1).min()  # 최저치구하기. 여기서 최저치가 최대낙폭손실이 된다. "
   ]
  },
  {
   "cell_type": "code",
   "execution_count": 33,
   "metadata": {},
   "outputs": [
    {
     "data": {
      "image/png": "[encoded data removed]",
      "text/plain": [
       "<Figure size 648x504 with 2 Axes>"
      ]
     },
     "metadata": {
      "needs_background": "light"
     },
     "output_type": "display_data"
    }
   ],
   "source": [
    "plt.figure(figsize=(9,7))\n",
    "plt.subplot(211)  # 2행1열 중 1행에 그린다. \n",
    "kospi['Close'].plot(label = 'KOSPI', title = 'KOSPI MDD', grid =True, legend=True)\n",
    "\n",
    "plt.subplot(212)  # 2행1열 중 2행에 그린다. \n",
    "drawdown.plot(c='blue', label = 'KOSPI DD', grid=True,legend=True)\n",
    "max_dd.plot(c='red', label = 'KOSPI MDD', grid=True, legend=True)\n",
    "plt.show()"
   ]
  },
  {
   "cell_type": "code",
   "execution_count": 34,
   "metadata": {},
   "outputs": [
    {
     "data": {
      "text/plain": [
       "-0.5453665130144085"
      ]
     },
     "execution_count": 34,
     "metadata": {},
     "output_type": "execute_result"
    }
   ],
   "source": [
    "max_dd.min()"
   ]
  },
  {
   "cell_type": "markdown",
   "metadata": {},
   "source": [
    "- 2008년 10월 금융위기 장시 KOSPI지수가 하락하면서 MDD가 약 -54.5%를 기록했다. 정확한 수치는 위와 같다.\n",
    "<br/>\n",
    "<br/>\n",
    "\n",
    "- MDD를 기록한 구간을 구하기 위해 아래과 같이 적용.\n",
    "    * 2008년 10월 24일부터 2009년 10월 21일까지 약 1년간 주어진 max_dd 수치와 일치한 것을 확인할 수 있다."
   ]
  },
  {
   "cell_type": "code",
   "execution_count": 35,
   "metadata": {},
   "outputs": [
    {
     "data": {
      "text/plain": [
       "Date\n",
       "2008-10-24   -0.545367\n",
       "2008-10-27   -0.545367\n",
       "2008-10-28   -0.545367\n",
       "2008-10-29   -0.545367\n",
       "2008-10-30   -0.545367\n",
       "                ...   \n",
       "2009-10-16   -0.545367\n",
       "2009-10-19   -0.545367\n",
       "2009-10-20   -0.545367\n",
       "2009-10-21   -0.545367\n",
       "2009-10-22   -0.545367\n",
       "Name: Adj Close, Length: 252, dtype: float64"
      ]
     },
     "execution_count": 35,
     "metadata": {},
     "output_type": "execute_result"
    }
   ],
   "source": [
    "max_dd[max_dd==-0.5453665130144085]"
   ]
  },
  {
   "cell_type": "markdown",
   "metadata": {},
   "source": [
    "# KOSPI와 다우존스 지수비교\n",
    "* 국내주식과 미국주식의 상관관계를 비교하기 위해 야후 파이낸스로 부터 2000년 1월부터 현재까지 KOSPI와 다우존스 지수 데이터를 불러온다."
   ]
  },
  {
   "cell_type": "code",
   "execution_count": 38,
   "metadata": {},
   "outputs": [
    {
     "name": "stdout",
     "output_type": "stream",
     "text": [
      "[*********************100%***********************]  1 of 1 completed\n",
      "[*********************100%***********************]  1 of 1 completed\n"
     ]
    }
   ],
   "source": [
    "dow = pdr.get_data_yahoo('^DJI','2000-01-04')\n",
    "kospi = pdr.get_data_yahoo('^KS11','2000-01-04')"
   ]
  },
  {
   "cell_type": "code",
   "execution_count": 41,
   "metadata": {},
   "outputs": [
    {
     "data": {
      "image/png": "[encoded data removed]",
      "text/plain": [
       "<Figure size 648x504 with 1 Axes>"
      ]
     },
     "metadata": {
      "needs_background": "light"
     },
     "output_type": "display_data"
    }
   ],
   "source": [
    "plt.figure(figsize=(9,7))\n",
    "plt.plot(dow.index,dow.Close,'r--',label='Dow Jones Industrial')\n",
    "plt.plot(kospi.index,kospi['Close'],'b',label='KOSPI')\n",
    "plt.grid(True)\n",
    "plt.legend(loc='best')\n",
    "plt.show()"
   ]
  },
  {
   "cell_type": "markdown",
   "metadata": {},
   "source": [
    "* 일반종가로는 지수수치 차이가 많이나서 그래프를 해석하기 힘들다. \n",
    "* 현재종가를 특정시점 종가로 나누어 변동률을 구해보자. (지수화 이용)"
   ]
  },
  {
   "cell_type": "markdown",
   "metadata": {},
   "source": [
    "#### 지수화 비교"
   ]
  },
  {
   "cell_type": "code",
   "execution_count": 42,
   "metadata": {},
   "outputs": [],
   "source": [
    "d = (dow.Close/dow.Close.loc['2000-01-04'])*100\n",
    "k = (kospi.Close/kospi.Close.loc['2000-01-04'])*100"
   ]
  },
  {
   "cell_type": "code",
   "execution_count": 43,
   "metadata": {},
   "outputs": [
    {
     "data": {
      "image/png": "[encoded data removed]",
      "text/plain": [
       "<Figure size 648x504 with 1 Axes>"
      ]
     },
     "metadata": {
      "needs_background": "light"
     },
     "output_type": "display_data"
    }
   ],
   "source": [
    "plt.figure(figsize=(9,7))\n",
    "plt.plot(d.index,d,'r--',label='Dow Jones Industrial')\n",
    "plt.plot(k.index,k,'b',label='KOSPI')\n",
    "plt.grid(True)\n",
    "plt.legend(loc='best')\n",
    "plt.show()"
   ]
  },
  {
   "cell_type": "markdown",
   "metadata": {},
   "source": [
    "* 종가(dow[Close])를 2000년 1월 4일 종가로 나눈 뒤 100을 곱하면 2000년 1월4일 종가대비 해당 날짜의 변동률을 구할 수 있다. \n",
    "* 이런것을 '지수화'라고 한다. \n",
    "<br/>\n",
    "<br/>\n",
    "* 지수화를 하고 나니 20년간 KOSPI상승률과 다우존스지수의 상승률이 비슷하다는 것을 알 수 있다.\n"
   ]
  },
  {
   "cell_type": "code",
   "execution_count": 46,
   "metadata": {},
   "outputs": [
    {
     "data": {
      "text/plain": [
       "Date\n",
       "2000-01-03    1.032695\n",
       "2000-01-04    1.000000\n",
       "2000-01-05    1.011340\n",
       "2000-01-06    1.023216\n",
       "2000-01-07    1.047703\n",
       "                ...   \n",
       "2020-09-28    2.508114\n",
       "2020-09-29    2.496166\n",
       "2020-09-30    2.526084\n",
       "2020-10-01    2.529285\n",
       "2020-10-02    2.517093\n",
       "Name: Close, Length: 5222, dtype: float64"
      ]
     },
     "execution_count": 46,
     "metadata": {},
     "output_type": "execute_result"
    }
   ],
   "source": [
    "dow['Close']/dow.Close.loc['2000-01-04']"
   ]
  },
  {
   "cell_type": "code",
   "execution_count": null,
   "metadata": {},
   "outputs": [],
   "source": []
  },
  {
   "cell_type": "code",
   "execution_count": null,
   "metadata": {},
   "outputs": [],
   "source": [
    "import pandas as pd\n",
    "import pymysql\n",
    "from datetime import datetime\n",
    "from datetime import timedelta\n",
    "import re\n",
    "\n",
    "class MarketDB:\n",
    "    def __init__(self):\n",
    "        \"\"\"생성자: MariaDB 연결 및 종목코드 딕셔너리 생성\"\"\"\n",
    "        self.conn = pymysql.connect(host='localhost', user='root', \n",
    "            password='snake.land.', db='INVESTAR', charset='utf8')\n",
    "        self.codes = {}\n",
    "        self.get_comp_info()\n",
    "        \n",
    "    def __del__(self):\n",
    "        \"\"\"소멸자: MariaDB 연결 해제\"\"\"\n",
    "        self.conn.close()\n",
    "\n",
    "    def get_comp_info(self):\n",
    "        \"\"\"company_info 테이블에서 읽어와서 codes에 저장\"\"\"\n",
    "        sql = \"SELECT * FROM company_info\"\n",
    "        krx = pd.read_sql(sql, self.conn)\n",
    "        for idx in range(len(krx)):\n",
    "            self.codes[krx['code'].values[idx]] = krx['company'].values[idx]\n",
    "\n",
    "    def get_daily_price(self, code, start_date=None, end_date=None):\n",
    "        \"\"\"KRX 종목의 일별 시세를 데이터프레임 형태로 반환\n",
    "            - code       : KRX 종목코드('005930') 또는 상장기업명('삼성전자')\n",
    "            - start_date : 조회 시작일('2020-01-01'), 미입력 시 1년 전 오늘\n",
    "            - end_date   : 조회 종료일('2020-12-31'), 미입력 시 오늘 날짜\n",
    "        \"\"\"\n",
    "        if start_date is None:\n",
    "            one_year_ago = datetime.today() - timedelta(days=365)\n",
    "            start_date = one_year_ago.strftime('%Y-%m-%d')\n",
    "            print(\"start_date is initialized to '{}'\".format(start_date))\n",
    "        else:\n",
    "            start_lst = re.split('\\D+', start_date)\n",
    "            if start_lst[0] == '':\n",
    "                start_lst = start_lst[1:]\n",
    "            start_year = int(start_lst[0])\n",
    "            start_month = int(start_lst[1])\n",
    "            start_day = int(start_lst[2])\n",
    "            if start_year < 1900 or start_year > 2200:\n",
    "                print(f\"ValueError: start_year({start_year:d}) is wrong.\")\n",
    "                return\n",
    "            if start_month < 1 or start_month > 12:\n",
    "                print(f\"ValueError: start_month({start_month:d}) is wrong.\")\n",
    "                return\n",
    "            if start_day < 1 or start_day > 31:\n",
    "                print(f\"ValueError: start_day({start_day:d}) is wrong.\")\n",
    "                return\n",
    "            start_date=f\"{start_year:04d}-{start_month:02d}-{start_day:02d}\"\n",
    "\n",
    "        if end_date is None:\n",
    "            end_date = datetime.today().strftime('%Y-%m-%d')\n",
    "            print(\"end_date is initialized to '{}'\".format(end_date))\n",
    "        else:\n",
    "            end_lst = re.split('\\D+', end_date)\n",
    "            if end_lst[0] == '':\n",
    "                end_lst = end_lst[1:] \n",
    "            end_year = int(end_lst[0])\n",
    "            end_month = int(end_lst[1])\n",
    "            end_day = int(end_lst[2])\n",
    "            if end_year < 1800 or end_year > 2200:\n",
    "                print(f\"ValueError: end_year({end_year:d}) is wrong.\")\n",
    "                return\n",
    "            if end_month < 1 or end_month > 12:\n",
    "                print(f\"ValueError: end_month({end_month:d}) is wrong.\")\n",
    "                return\n",
    "            if end_day < 1 or end_day > 31:\n",
    "                print(f\"ValueError: end_day({end_day:d}) is wrong.\")\n",
    "                return\n",
    "            end_date = f\"{end_year:04d}-{end_month:02d}-{end_day:02d}\"\n",
    "         \n",
    "        codes_keys = list(self.codes.keys())\n",
    "        codes_values = list(self.codes.values())\n",
    "\n",
    "        if code in codes_keys:\n",
    "            pass\n",
    "        elif code in codes_values:\n",
    "            idx = codes_values.index(code)\n",
    "            code = codes_keys[idx]\n",
    "        else:\n",
    "            print(f\"ValueError: Code({code}) doesn't exist.\")\n",
    "        sql = f\"SELECT * FROM daily_price WHERE code = '{code}'\"\\\n",
    "            f\" and date >= '{start_date}' and date <= '{end_date}'\"\n",
    "        df = pd.read_sql(sql, self.conn)\n",
    "        df.index = df['date']\n",
    "        return df \n",
    "\n"
   ]
  }
 ],
 "metadata": {
  "kernelspec": {
   "display_name": "Python 3",
   "language": "python",
   "name": "python3"
  },
  "language_info": {
   "codemirror_mode": {
    "name": "ipython",
    "version": 3
   },
   "file_extension": ".py",
   "mimetype": "text/x-python",
   "name": "python",
   "nbconvert_exporter": "python",
   "pygments_lexer": "ipython3",
   "version": "3.7.6"
  }
 },
 "nbformat": 4,
 "nbformat_minor": 4
}
